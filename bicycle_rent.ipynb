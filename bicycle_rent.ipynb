{
 "cells": [
  {
   "cell_type": "code",
   "execution_count": 348,
   "metadata": {},
   "outputs": [],
   "source": [
    "import pandas as pd\n",
    "import numpy as np\n",
    "import seaborn as sns\n",
    "import matplotlib.pyplot as plt\n",
    "import scipy.stats as ss\n",
    "import statsmodels.api as sm\n",
    "import statsmodels.formula.api as smf\n",
    "import pingouin as pg\n",
    "import scikit_posthocs as sp\n",
    "import warnings\n",
    "warnings.filterwarnings(\"ignore\")\n",
    "\n",
    "sns.set(rc={'figure.figsize': (18, 6)})"
   ]
  },
  {
   "cell_type": "markdown",
   "metadata": {},
   "source": [
    "## Предварительный анализ данных"
   ]
  },
  {
   "cell_type": "code",
   "execution_count": 287,
   "metadata": {},
   "outputs": [],
   "source": [
    "# Считываем данные и сразу переводим колонку со временем в формат даты\n",
    "london = pd.read_csv('london.csv', parse_dates=['timestamp'])"
   ]
  },
  {
   "cell_type": "code",
   "execution_count": 288,
   "metadata": {},
   "outputs": [
    {
     "data": {
      "text/html": [
       "<div>\n",
       "<style scoped>\n",
       "    .dataframe tbody tr th:only-of-type {\n",
       "        vertical-align: middle;\n",
       "    }\n",
       "\n",
       "    .dataframe tbody tr th {\n",
       "        vertical-align: top;\n",
       "    }\n",
       "\n",
       "    .dataframe thead th {\n",
       "        text-align: right;\n",
       "    }\n",
       "</style>\n",
       "<table border=\"1\" class=\"dataframe\">\n",
       "  <thead>\n",
       "    <tr style=\"text-align: right;\">\n",
       "      <th></th>\n",
       "      <th>timestamp</th>\n",
       "      <th>cnt</th>\n",
       "      <th>t1</th>\n",
       "      <th>t2</th>\n",
       "      <th>hum</th>\n",
       "      <th>wind_speed</th>\n",
       "      <th>weather_code</th>\n",
       "      <th>is_holiday</th>\n",
       "      <th>is_weekend</th>\n",
       "      <th>season</th>\n",
       "    </tr>\n",
       "  </thead>\n",
       "  <tbody>\n",
       "    <tr>\n",
       "      <th>0</th>\n",
       "      <td>2015-01-04 00:00:00</td>\n",
       "      <td>182</td>\n",
       "      <td>3.0</td>\n",
       "      <td>2.0</td>\n",
       "      <td>93.0</td>\n",
       "      <td>6.0</td>\n",
       "      <td>3.0</td>\n",
       "      <td>0.0</td>\n",
       "      <td>1.0</td>\n",
       "      <td>3.0</td>\n",
       "    </tr>\n",
       "    <tr>\n",
       "      <th>1</th>\n",
       "      <td>2015-01-04 01:00:00</td>\n",
       "      <td>138</td>\n",
       "      <td>3.0</td>\n",
       "      <td>2.5</td>\n",
       "      <td>93.0</td>\n",
       "      <td>5.0</td>\n",
       "      <td>1.0</td>\n",
       "      <td>0.0</td>\n",
       "      <td>1.0</td>\n",
       "      <td>3.0</td>\n",
       "    </tr>\n",
       "    <tr>\n",
       "      <th>2</th>\n",
       "      <td>2015-01-04 02:00:00</td>\n",
       "      <td>134</td>\n",
       "      <td>2.5</td>\n",
       "      <td>2.5</td>\n",
       "      <td>96.5</td>\n",
       "      <td>0.0</td>\n",
       "      <td>1.0</td>\n",
       "      <td>0.0</td>\n",
       "      <td>1.0</td>\n",
       "      <td>3.0</td>\n",
       "    </tr>\n",
       "    <tr>\n",
       "      <th>3</th>\n",
       "      <td>2015-01-04 03:00:00</td>\n",
       "      <td>72</td>\n",
       "      <td>2.0</td>\n",
       "      <td>2.0</td>\n",
       "      <td>100.0</td>\n",
       "      <td>0.0</td>\n",
       "      <td>1.0</td>\n",
       "      <td>0.0</td>\n",
       "      <td>1.0</td>\n",
       "      <td>3.0</td>\n",
       "    </tr>\n",
       "    <tr>\n",
       "      <th>4</th>\n",
       "      <td>2015-01-04 04:00:00</td>\n",
       "      <td>47</td>\n",
       "      <td>2.0</td>\n",
       "      <td>0.0</td>\n",
       "      <td>93.0</td>\n",
       "      <td>6.5</td>\n",
       "      <td>1.0</td>\n",
       "      <td>0.0</td>\n",
       "      <td>1.0</td>\n",
       "      <td>3.0</td>\n",
       "    </tr>\n",
       "  </tbody>\n",
       "</table>\n",
       "</div>"
      ],
      "text/plain": [
       "            timestamp  cnt   t1   t2    hum  wind_speed  weather_code  \\\n",
       "0 2015-01-04 00:00:00  182  3.0  2.0   93.0         6.0           3.0   \n",
       "1 2015-01-04 01:00:00  138  3.0  2.5   93.0         5.0           1.0   \n",
       "2 2015-01-04 02:00:00  134  2.5  2.5   96.5         0.0           1.0   \n",
       "3 2015-01-04 03:00:00   72  2.0  2.0  100.0         0.0           1.0   \n",
       "4 2015-01-04 04:00:00   47  2.0  0.0   93.0         6.5           1.0   \n",
       "\n",
       "   is_holiday  is_weekend  season  \n",
       "0         0.0         1.0     3.0  \n",
       "1         0.0         1.0     3.0  \n",
       "2         0.0         1.0     3.0  \n",
       "3         0.0         1.0     3.0  \n",
       "4         0.0         1.0     3.0  "
      ]
     },
     "execution_count": 288,
     "metadata": {},
     "output_type": "execute_result"
    }
   ],
   "source": [
    "london.head()"
   ]
  },
  {
   "cell_type": "code",
   "execution_count": 289,
   "metadata": {},
   "outputs": [
    {
     "data": {
      "text/plain": [
       "(17414, 10)"
      ]
     },
     "execution_count": 289,
     "metadata": {},
     "output_type": "execute_result"
    }
   ],
   "source": [
    "# Количество строк и столбцов\n",
    "london.shape"
   ]
  },
  {
   "cell_type": "code",
   "execution_count": 290,
   "metadata": {},
   "outputs": [
    {
     "data": {
      "text/plain": [
       "timestamp       0\n",
       "cnt             0\n",
       "t1              0\n",
       "t2              0\n",
       "hum             0\n",
       "wind_speed      0\n",
       "weather_code    0\n",
       "is_holiday      0\n",
       "is_weekend      0\n",
       "season          0\n",
       "dtype: int64"
      ]
     },
     "execution_count": 290,
     "metadata": {},
     "output_type": "execute_result"
    }
   ],
   "source": [
    "# Проверяем данные на пропуски\n",
    "london.isnull().sum()"
   ]
  },
  {
   "cell_type": "code",
   "execution_count": 291,
   "metadata": {},
   "outputs": [
    {
     "data": {
      "text/plain": [
       "timestamp       datetime64[ns]\n",
       "cnt                      int64\n",
       "t1                     float64\n",
       "t2                     float64\n",
       "hum                    float64\n",
       "wind_speed             float64\n",
       "weather_code           float64\n",
       "is_holiday             float64\n",
       "is_weekend             float64\n",
       "season                 float64\n",
       "dtype: object"
      ]
     },
     "execution_count": 291,
     "metadata": {},
     "output_type": "execute_result"
    }
   ],
   "source": [
    "# Проверяем типы данных\n",
    "london.dtypes"
   ]
  },
  {
   "cell_type": "code",
   "execution_count": 292,
   "metadata": {},
   "outputs": [
    {
     "data": {
      "text/html": [
       "<div>\n",
       "<style scoped>\n",
       "    .dataframe tbody tr th:only-of-type {\n",
       "        vertical-align: middle;\n",
       "    }\n",
       "\n",
       "    .dataframe tbody tr th {\n",
       "        vertical-align: top;\n",
       "    }\n",
       "\n",
       "    .dataframe thead th {\n",
       "        text-align: right;\n",
       "    }\n",
       "</style>\n",
       "<table border=\"1\" class=\"dataframe\">\n",
       "  <thead>\n",
       "    <tr style=\"text-align: right;\">\n",
       "      <th></th>\n",
       "      <th>cnt</th>\n",
       "      <th>t1</th>\n",
       "      <th>t2</th>\n",
       "      <th>hum</th>\n",
       "      <th>wind_speed</th>\n",
       "      <th>weather_code</th>\n",
       "      <th>is_holiday</th>\n",
       "      <th>is_weekend</th>\n",
       "      <th>season</th>\n",
       "    </tr>\n",
       "  </thead>\n",
       "  <tbody>\n",
       "    <tr>\n",
       "      <th>count</th>\n",
       "      <td>17414.000000</td>\n",
       "      <td>17414.000000</td>\n",
       "      <td>17414.000000</td>\n",
       "      <td>17414.000000</td>\n",
       "      <td>17414.000000</td>\n",
       "      <td>17414.000000</td>\n",
       "      <td>17414.000000</td>\n",
       "      <td>17414.000000</td>\n",
       "      <td>17414.000000</td>\n",
       "    </tr>\n",
       "    <tr>\n",
       "      <th>mean</th>\n",
       "      <td>1143.101642</td>\n",
       "      <td>12.468091</td>\n",
       "      <td>11.520836</td>\n",
       "      <td>72.324954</td>\n",
       "      <td>15.913063</td>\n",
       "      <td>2.722752</td>\n",
       "      <td>0.022051</td>\n",
       "      <td>0.285403</td>\n",
       "      <td>1.492075</td>\n",
       "    </tr>\n",
       "    <tr>\n",
       "      <th>std</th>\n",
       "      <td>1085.108068</td>\n",
       "      <td>5.571818</td>\n",
       "      <td>6.615145</td>\n",
       "      <td>14.313186</td>\n",
       "      <td>7.894570</td>\n",
       "      <td>2.341163</td>\n",
       "      <td>0.146854</td>\n",
       "      <td>0.451619</td>\n",
       "      <td>1.118911</td>\n",
       "    </tr>\n",
       "    <tr>\n",
       "      <th>min</th>\n",
       "      <td>0.000000</td>\n",
       "      <td>-1.500000</td>\n",
       "      <td>-6.000000</td>\n",
       "      <td>20.500000</td>\n",
       "      <td>0.000000</td>\n",
       "      <td>1.000000</td>\n",
       "      <td>0.000000</td>\n",
       "      <td>0.000000</td>\n",
       "      <td>0.000000</td>\n",
       "    </tr>\n",
       "    <tr>\n",
       "      <th>25%</th>\n",
       "      <td>257.000000</td>\n",
       "      <td>8.000000</td>\n",
       "      <td>6.000000</td>\n",
       "      <td>63.000000</td>\n",
       "      <td>10.000000</td>\n",
       "      <td>1.000000</td>\n",
       "      <td>0.000000</td>\n",
       "      <td>0.000000</td>\n",
       "      <td>0.000000</td>\n",
       "    </tr>\n",
       "    <tr>\n",
       "      <th>50%</th>\n",
       "      <td>844.000000</td>\n",
       "      <td>12.500000</td>\n",
       "      <td>12.500000</td>\n",
       "      <td>74.500000</td>\n",
       "      <td>15.000000</td>\n",
       "      <td>2.000000</td>\n",
       "      <td>0.000000</td>\n",
       "      <td>0.000000</td>\n",
       "      <td>1.000000</td>\n",
       "    </tr>\n",
       "    <tr>\n",
       "      <th>75%</th>\n",
       "      <td>1671.750000</td>\n",
       "      <td>16.000000</td>\n",
       "      <td>16.000000</td>\n",
       "      <td>83.000000</td>\n",
       "      <td>20.500000</td>\n",
       "      <td>3.000000</td>\n",
       "      <td>0.000000</td>\n",
       "      <td>1.000000</td>\n",
       "      <td>2.000000</td>\n",
       "    </tr>\n",
       "    <tr>\n",
       "      <th>max</th>\n",
       "      <td>7860.000000</td>\n",
       "      <td>34.000000</td>\n",
       "      <td>34.000000</td>\n",
       "      <td>100.000000</td>\n",
       "      <td>56.500000</td>\n",
       "      <td>26.000000</td>\n",
       "      <td>1.000000</td>\n",
       "      <td>1.000000</td>\n",
       "      <td>3.000000</td>\n",
       "    </tr>\n",
       "  </tbody>\n",
       "</table>\n",
       "</div>"
      ],
      "text/plain": [
       "                cnt            t1            t2           hum    wind_speed  \\\n",
       "count  17414.000000  17414.000000  17414.000000  17414.000000  17414.000000   \n",
       "mean    1143.101642     12.468091     11.520836     72.324954     15.913063   \n",
       "std     1085.108068      5.571818      6.615145     14.313186      7.894570   \n",
       "min        0.000000     -1.500000     -6.000000     20.500000      0.000000   \n",
       "25%      257.000000      8.000000      6.000000     63.000000     10.000000   \n",
       "50%      844.000000     12.500000     12.500000     74.500000     15.000000   \n",
       "75%     1671.750000     16.000000     16.000000     83.000000     20.500000   \n",
       "max     7860.000000     34.000000     34.000000    100.000000     56.500000   \n",
       "\n",
       "       weather_code    is_holiday    is_weekend        season  \n",
       "count  17414.000000  17414.000000  17414.000000  17414.000000  \n",
       "mean       2.722752      0.022051      0.285403      1.492075  \n",
       "std        2.341163      0.146854      0.451619      1.118911  \n",
       "min        1.000000      0.000000      0.000000      0.000000  \n",
       "25%        1.000000      0.000000      0.000000      0.000000  \n",
       "50%        2.000000      0.000000      0.000000      1.000000  \n",
       "75%        3.000000      0.000000      1.000000      2.000000  \n",
       "max       26.000000      1.000000      1.000000      3.000000  "
      ]
     },
     "execution_count": 292,
     "metadata": {},
     "output_type": "execute_result"
    }
   ],
   "source": [
    "# Смотрим описательные статистики\n",
    "london.describe()"
   ]
  },
  {
   "cell_type": "code",
   "execution_count": 293,
   "metadata": {},
   "outputs": [
    {
     "data": {
      "text/plain": [
       "<Axes: xlabel='timestamp', ylabel='cnt'>"
      ]
     },
     "execution_count": 293,
     "metadata": {},
     "output_type": "execute_result"
    },
    {
     "data": {
      "image/png": "[encoded data removed]",
      "text/plain": [
       "<Figure size 1800x600 with 1 Axes>"
      ]
     },
     "metadata": {},
     "output_type": "display_data"
    }
   ],
   "source": [
    "# Визуализируем число поездок по датам \n",
    "sns.lineplot(x='timestamp', y='cnt', data=london)"
   ]
  },
  {
   "cell_type": "code",
   "execution_count": 349,
   "metadata": {},
   "outputs": [],
   "source": [
    "# Данные в колонке timestamp разбиты по часам, сделаем преобразование\n",
    "london = london.set_index('timestamp', drop=False)\n",
    "london_resample = london.resample('D').cnt.sum().to_frame()"
   ]
  },
  {
   "cell_type": "code",
   "execution_count": 350,
   "metadata": {},
   "outputs": [
    {
     "data": {
      "text/plain": [
       "<Axes: xlabel='timestamp', ylabel='cnt'>"
      ]
     },
     "execution_count": 350,
     "metadata": {},
     "output_type": "execute_result"
    },
    {
     "data": {
      "image/png": "[encoded data removed]",
      "text/plain": [
       "<Figure size 1800x600 with 1 Axes>"
      ]
     },
     "metadata": {},
     "output_type": "display_data"
    }
   ],
   "source": [
    "# Посмотрим на распределение числа поездок по дням\n",
    "sns.lineplot(x='timestamp', y='cnt', data=london_resample)"
   ]
  },
  {
   "cell_type": "markdown",
   "metadata": {},
   "source": [
    "На графике присутствуют скачки. Чтобы определить, в какие дни они произошли построим доверительный интервал - всё, что выходит за его пределы, будет считаться аномалией. Для построения доверительного интервала будем использовать скользящее среднее."
   ]
  },
  {
   "cell_type": "code",
   "execution_count": 351,
   "metadata": {},
   "outputs": [],
   "source": [
    "# Посчитаем скользящее среднее\n",
    "london_resample['cnt_avg_mean'] = london_resample.cnt.rolling(window=3).mean()"
   ]
  },
  {
   "cell_type": "code",
   "execution_count": 352,
   "metadata": {},
   "outputs": [
    {
     "data": {
      "text/html": [
       "<div>\n",
       "<style scoped>\n",
       "    .dataframe tbody tr th:only-of-type {\n",
       "        vertical-align: middle;\n",
       "    }\n",
       "\n",
       "    .dataframe tbody tr th {\n",
       "        vertical-align: top;\n",
       "    }\n",
       "\n",
       "    .dataframe thead th {\n",
       "        text-align: right;\n",
       "    }\n",
       "</style>\n",
       "<table border=\"1\" class=\"dataframe\">\n",
       "  <thead>\n",
       "    <tr style=\"text-align: right;\">\n",
       "      <th></th>\n",
       "      <th>cnt</th>\n",
       "      <th>cnt_avg_mean</th>\n",
       "    </tr>\n",
       "    <tr>\n",
       "      <th>timestamp</th>\n",
       "      <th></th>\n",
       "      <th></th>\n",
       "    </tr>\n",
       "  </thead>\n",
       "  <tbody>\n",
       "    <tr>\n",
       "      <th>2015-01-04</th>\n",
       "      <td>9234</td>\n",
       "      <td>NaN</td>\n",
       "    </tr>\n",
       "    <tr>\n",
       "      <th>2015-01-05</th>\n",
       "      <td>20372</td>\n",
       "      <td>NaN</td>\n",
       "    </tr>\n",
       "    <tr>\n",
       "      <th>2015-01-06</th>\n",
       "      <td>20613</td>\n",
       "      <td>16739.666667</td>\n",
       "    </tr>\n",
       "    <tr>\n",
       "      <th>2015-01-07</th>\n",
       "      <td>21064</td>\n",
       "      <td>20683.000000</td>\n",
       "    </tr>\n",
       "    <tr>\n",
       "      <th>2015-01-08</th>\n",
       "      <td>15601</td>\n",
       "      <td>19092.666667</td>\n",
       "    </tr>\n",
       "  </tbody>\n",
       "</table>\n",
       "</div>"
      ],
      "text/plain": [
       "              cnt  cnt_avg_mean\n",
       "timestamp                      \n",
       "2015-01-04   9234           NaN\n",
       "2015-01-05  20372           NaN\n",
       "2015-01-06  20613  16739.666667\n",
       "2015-01-07  21064  20683.000000\n",
       "2015-01-08  15601  19092.666667"
      ]
     },
     "execution_count": 352,
     "metadata": {},
     "output_type": "execute_result"
    }
   ],
   "source": [
    "london_resample.head()"
   ]
  },
  {
   "cell_type": "code",
   "execution_count": 353,
   "metadata": {},
   "outputs": [],
   "source": [
    "# Посчитаем разницу между скользящими средними и реальными значениями\n",
    "london_resample['dif'] = london_resample.cnt - london_resample.cnt_avg_mean"
   ]
  },
  {
   "cell_type": "code",
   "execution_count": 354,
   "metadata": {},
   "outputs": [],
   "source": [
    "# Найдём стандартное отклонение\n",
    "std = np.std(london_resample.dif)"
   ]
  },
  {
   "cell_type": "code",
   "execution_count": 355,
   "metadata": {},
   "outputs": [],
   "source": [
    "# Определим границы 99% доверительного интервала.\n",
    "london_resample['upper_bound'] = london_resample.cnt_avg_mean + 2.576 * std\n",
    "london_resample['lower_bound'] = london_resample.cnt_avg_mean - 2.576 * std"
   ]
  },
  {
   "cell_type": "code",
   "execution_count": 356,
   "metadata": {},
   "outputs": [
    {
     "data": {
      "text/html": [
       "<div>\n",
       "<style scoped>\n",
       "    .dataframe tbody tr th:only-of-type {\n",
       "        vertical-align: middle;\n",
       "    }\n",
       "\n",
       "    .dataframe tbody tr th {\n",
       "        vertical-align: top;\n",
       "    }\n",
       "\n",
       "    .dataframe thead th {\n",
       "        text-align: right;\n",
       "    }\n",
       "</style>\n",
       "<table border=\"1\" class=\"dataframe\">\n",
       "  <thead>\n",
       "    <tr style=\"text-align: right;\">\n",
       "      <th></th>\n",
       "      <th>cnt</th>\n",
       "      <th>cnt_avg_mean</th>\n",
       "      <th>dif</th>\n",
       "      <th>upper_bound</th>\n",
       "      <th>lower_bound</th>\n",
       "    </tr>\n",
       "    <tr>\n",
       "      <th>timestamp</th>\n",
       "      <th></th>\n",
       "      <th></th>\n",
       "      <th></th>\n",
       "      <th></th>\n",
       "      <th></th>\n",
       "    </tr>\n",
       "  </thead>\n",
       "  <tbody>\n",
       "    <tr>\n",
       "      <th>2015-01-04</th>\n",
       "      <td>9234</td>\n",
       "      <td>NaN</td>\n",
       "      <td>NaN</td>\n",
       "      <td>NaN</td>\n",
       "      <td>NaN</td>\n",
       "    </tr>\n",
       "    <tr>\n",
       "      <th>2015-01-05</th>\n",
       "      <td>20372</td>\n",
       "      <td>NaN</td>\n",
       "      <td>NaN</td>\n",
       "      <td>NaN</td>\n",
       "      <td>NaN</td>\n",
       "    </tr>\n",
       "    <tr>\n",
       "      <th>2015-01-06</th>\n",
       "      <td>20613</td>\n",
       "      <td>16739.666667</td>\n",
       "      <td>3873.333333</td>\n",
       "      <td>28482.585854</td>\n",
       "      <td>4996.747479</td>\n",
       "    </tr>\n",
       "    <tr>\n",
       "      <th>2015-01-07</th>\n",
       "      <td>21064</td>\n",
       "      <td>20683.000000</td>\n",
       "      <td>381.000000</td>\n",
       "      <td>32425.919188</td>\n",
       "      <td>8940.080812</td>\n",
       "    </tr>\n",
       "    <tr>\n",
       "      <th>2015-01-08</th>\n",
       "      <td>15601</td>\n",
       "      <td>19092.666667</td>\n",
       "      <td>-3491.666667</td>\n",
       "      <td>30835.585854</td>\n",
       "      <td>7349.747479</td>\n",
       "    </tr>\n",
       "  </tbody>\n",
       "</table>\n",
       "</div>"
      ],
      "text/plain": [
       "              cnt  cnt_avg_mean          dif   upper_bound  lower_bound\n",
       "timestamp                                                              \n",
       "2015-01-04   9234           NaN          NaN           NaN          NaN\n",
       "2015-01-05  20372           NaN          NaN           NaN          NaN\n",
       "2015-01-06  20613  16739.666667  3873.333333  28482.585854  4996.747479\n",
       "2015-01-07  21064  20683.000000   381.000000  32425.919188  8940.080812\n",
       "2015-01-08  15601  19092.666667 -3491.666667  30835.585854  7349.747479"
      ]
     },
     "execution_count": 356,
     "metadata": {},
     "output_type": "execute_result"
    }
   ],
   "source": [
    "london_resample.head()"
   ]
  },
  {
   "cell_type": "code",
   "execution_count": 357,
   "metadata": {},
   "outputs": [
    {
     "data": {
      "text/html": [
       "<div>\n",
       "<style scoped>\n",
       "    .dataframe tbody tr th:only-of-type {\n",
       "        vertical-align: middle;\n",
       "    }\n",
       "\n",
       "    .dataframe tbody tr th {\n",
       "        vertical-align: top;\n",
       "    }\n",
       "\n",
       "    .dataframe thead th {\n",
       "        text-align: right;\n",
       "    }\n",
       "</style>\n",
       "<table border=\"1\" class=\"dataframe\">\n",
       "  <thead>\n",
       "    <tr style=\"text-align: right;\">\n",
       "      <th></th>\n",
       "      <th>cnt</th>\n",
       "      <th>cnt_avg_mean</th>\n",
       "      <th>dif</th>\n",
       "      <th>upper_bound</th>\n",
       "      <th>lower_bound</th>\n",
       "    </tr>\n",
       "    <tr>\n",
       "      <th>timestamp</th>\n",
       "      <th></th>\n",
       "      <th></th>\n",
       "      <th></th>\n",
       "      <th></th>\n",
       "      <th></th>\n",
       "    </tr>\n",
       "  </thead>\n",
       "  <tbody>\n",
       "    <tr>\n",
       "      <th>2015-07-09</th>\n",
       "      <td>72504</td>\n",
       "      <td>50705.000000</td>\n",
       "      <td>21799.000000</td>\n",
       "      <td>62447.919188</td>\n",
       "      <td>38962.080812</td>\n",
       "    </tr>\n",
       "    <tr>\n",
       "      <th>2015-08-06</th>\n",
       "      <td>63468</td>\n",
       "      <td>46627.333333</td>\n",
       "      <td>16840.666667</td>\n",
       "      <td>58370.252521</td>\n",
       "      <td>34884.414146</td>\n",
       "    </tr>\n",
       "    <tr>\n",
       "      <th>2016-09-04</th>\n",
       "      <td>27512</td>\n",
       "      <td>14259.000000</td>\n",
       "      <td>13253.000000</td>\n",
       "      <td>26001.919188</td>\n",
       "      <td>2516.080812</td>\n",
       "    </tr>\n",
       "    <tr>\n",
       "      <th>2016-12-25</th>\n",
       "      <td>36653</td>\n",
       "      <td>19650.666667</td>\n",
       "      <td>17002.333333</td>\n",
       "      <td>31393.585854</td>\n",
       "      <td>7907.747479</td>\n",
       "    </tr>\n",
       "  </tbody>\n",
       "</table>\n",
       "</div>"
      ],
      "text/plain": [
       "              cnt  cnt_avg_mean           dif   upper_bound   lower_bound\n",
       "timestamp                                                                \n",
       "2015-07-09  72504  50705.000000  21799.000000  62447.919188  38962.080812\n",
       "2015-08-06  63468  46627.333333  16840.666667  58370.252521  34884.414146\n",
       "2016-09-04  27512  14259.000000  13253.000000  26001.919188   2516.080812\n",
       "2016-12-25  36653  19650.666667  17002.333333  31393.585854   7907.747479"
      ]
     },
     "execution_count": 357,
     "metadata": {},
     "output_type": "execute_result"
    }
   ],
   "source": [
    "# Отфильтруем наблюдения, для которых значения оказались выше границы 99% доверительного интервала.\n",
    "london_resample[london_resample.cnt > london_resample.upper_bound]"
   ]
  },
  {
   "cell_type": "code",
   "execution_count": 358,
   "metadata": {},
   "outputs": [],
   "source": [
    "# Самое высокое значение числа аренд 09.07.2015 года связано с забастовками работников метрополитена"
   ]
  },
  {
   "cell_type": "code",
   "execution_count": 359,
   "metadata": {},
   "outputs": [
    {
     "data": {
      "text/html": [
       "<div>\n",
       "<style scoped>\n",
       "    .dataframe tbody tr th:only-of-type {\n",
       "        vertical-align: middle;\n",
       "    }\n",
       "\n",
       "    .dataframe tbody tr th {\n",
       "        vertical-align: top;\n",
       "    }\n",
       "\n",
       "    .dataframe thead th {\n",
       "        text-align: right;\n",
       "    }\n",
       "</style>\n",
       "<table border=\"1\" class=\"dataframe\">\n",
       "  <thead>\n",
       "    <tr style=\"text-align: right;\">\n",
       "      <th></th>\n",
       "      <th>cnt</th>\n",
       "      <th>cnt_avg_mean</th>\n",
       "      <th>dif</th>\n",
       "      <th>upper_bound</th>\n",
       "      <th>lower_bound</th>\n",
       "    </tr>\n",
       "    <tr>\n",
       "      <th>timestamp</th>\n",
       "      <th></th>\n",
       "      <th></th>\n",
       "      <th></th>\n",
       "      <th></th>\n",
       "      <th></th>\n",
       "    </tr>\n",
       "  </thead>\n",
       "  <tbody>\n",
       "    <tr>\n",
       "      <th>2015-05-14</th>\n",
       "      <td>15609</td>\n",
       "      <td>28709.333333</td>\n",
       "      <td>-13100.333333</td>\n",
       "      <td>40452.252521</td>\n",
       "      <td>16966.414146</td>\n",
       "    </tr>\n",
       "    <tr>\n",
       "      <th>2015-07-12</th>\n",
       "      <td>23240</td>\n",
       "      <td>36036.666667</td>\n",
       "      <td>-12796.666667</td>\n",
       "      <td>47779.585854</td>\n",
       "      <td>24293.747479</td>\n",
       "    </tr>\n",
       "    <tr>\n",
       "      <th>2015-07-24</th>\n",
       "      <td>16034</td>\n",
       "      <td>31013.666667</td>\n",
       "      <td>-14979.666667</td>\n",
       "      <td>42756.585854</td>\n",
       "      <td>19270.747479</td>\n",
       "    </tr>\n",
       "    <tr>\n",
       "      <th>2015-08-24</th>\n",
       "      <td>17400</td>\n",
       "      <td>29529.333333</td>\n",
       "      <td>-12129.333333</td>\n",
       "      <td>41272.252521</td>\n",
       "      <td>17786.414146</td>\n",
       "    </tr>\n",
       "    <tr>\n",
       "      <th>2015-11-14</th>\n",
       "      <td>8898</td>\n",
       "      <td>21037.333333</td>\n",
       "      <td>-12139.333333</td>\n",
       "      <td>32780.252521</td>\n",
       "      <td>9294.414146</td>\n",
       "    </tr>\n",
       "    <tr>\n",
       "      <th>2016-09-02</th>\n",
       "      <td>0</td>\n",
       "      <td>26086.333333</td>\n",
       "      <td>-26086.333333</td>\n",
       "      <td>37829.252521</td>\n",
       "      <td>14343.414146</td>\n",
       "    </tr>\n",
       "    <tr>\n",
       "      <th>2016-09-10</th>\n",
       "      <td>17080</td>\n",
       "      <td>31262.000000</td>\n",
       "      <td>-14182.000000</td>\n",
       "      <td>43004.919188</td>\n",
       "      <td>19519.080812</td>\n",
       "    </tr>\n",
       "    <tr>\n",
       "      <th>2016-09-16</th>\n",
       "      <td>21967</td>\n",
       "      <td>36193.333333</td>\n",
       "      <td>-14226.333333</td>\n",
       "      <td>47936.252521</td>\n",
       "      <td>24450.414146</td>\n",
       "    </tr>\n",
       "    <tr>\n",
       "      <th>2016-11-12</th>\n",
       "      <td>8990</td>\n",
       "      <td>20878.000000</td>\n",
       "      <td>-11888.000000</td>\n",
       "      <td>32620.919188</td>\n",
       "      <td>9135.080812</td>\n",
       "    </tr>\n",
       "  </tbody>\n",
       "</table>\n",
       "</div>"
      ],
      "text/plain": [
       "              cnt  cnt_avg_mean           dif   upper_bound   lower_bound\n",
       "timestamp                                                                \n",
       "2015-05-14  15609  28709.333333 -13100.333333  40452.252521  16966.414146\n",
       "2015-07-12  23240  36036.666667 -12796.666667  47779.585854  24293.747479\n",
       "2015-07-24  16034  31013.666667 -14979.666667  42756.585854  19270.747479\n",
       "2015-08-24  17400  29529.333333 -12129.333333  41272.252521  17786.414146\n",
       "2015-11-14   8898  21037.333333 -12139.333333  32780.252521   9294.414146\n",
       "2016-09-02      0  26086.333333 -26086.333333  37829.252521  14343.414146\n",
       "2016-09-10  17080  31262.000000 -14182.000000  43004.919188  19519.080812\n",
       "2016-09-16  21967  36193.333333 -14226.333333  47936.252521  24450.414146\n",
       "2016-11-12   8990  20878.000000 -11888.000000  32620.919188   9135.080812"
      ]
     },
     "execution_count": 359,
     "metadata": {},
     "output_type": "execute_result"
    }
   ],
   "source": [
    "# Отфильтруем наблюдения, для которых значения оказались ниже границы 99% доверительного интервала.\n",
    "london_resample[london_resample.cnt < london_resample.lower_bound]"
   ]
  },
  {
   "cell_type": "markdown",
   "metadata": {},
   "source": [
    "В полученных данных выявлены скачки числа аренд. Чтобы определить дни с аномальными значениями, построен доверительный интервал для скользящего среднего. Самое высокое значение числа аренд было 09.07.2015, что связано с забастовками работников метро. Самое низкое число аренд 02.09.2015 (равно 0) может быть связано с ошибкой ввода данных."
   ]
  },
  {
   "cell_type": "markdown",
   "metadata": {},
   "source": [
    "### Количество аренд в зависимости от праздничных и выходных дней"
   ]
  },
  {
   "cell_type": "code",
   "execution_count": 360,
   "metadata": {},
   "outputs": [],
   "source": [
    "# Посмотрим на число аренд в зависимости от того является ли день праздничным\n",
    "# В данных явно укажем является ли день празником\n",
    "london['is_holiday'] = london['is_holiday'].astype('str')\n",
    "london['is_holiday']= london.is_holiday.str.replace('1.0', 'holiday').str.replace('0.0', 'not holiday')"
   ]
  },
  {
   "cell_type": "code",
   "execution_count": 307,
   "metadata": {},
   "outputs": [],
   "source": [
    "# Сгруппируем данные и посмотрим количество аренд по праздникам и обычным дням\n",
    "london_holiday = london.groupby('is_holiday').agg({'cnt':'sum'}).reset_index()"
   ]
  },
  {
   "cell_type": "code",
   "execution_count": 361,
   "metadata": {},
   "outputs": [
    {
     "data": {
      "text/plain": [
       "<Axes: xlabel='is_holiday', ylabel='cnt'>"
      ]
     },
     "execution_count": 361,
     "metadata": {},
     "output_type": "execute_result"
    },
    {
     "data": {
      "image/png": "[encoded data removed]",
      "text/plain": [
       "<Figure size 1800x600 with 1 Axes>"
      ]
     },
     "metadata": {},
     "output_type": "display_data"
    }
   ],
   "source": [
    "# Визуализируем\n",
    "sns.barplot(x='is_holiday', y='cnt', data=london_holiday)"
   ]
  },
  {
   "cell_type": "code",
   "execution_count": 309,
   "metadata": {},
   "outputs": [],
   "source": [
    "# Посмотрим на число аренд в зависимости от рабочих и выходных дней\n",
    "# В колонке isweekend указано  является ли день выходным (1 – выходной, 0 – нет)\n",
    "london['is_weekend'] = london['is_weekend'].astype('str')\n",
    "london['is_weekend']= london.is_weekend.str.replace('1.0', 'weekend').str.replace('0.0', 'workday')"
   ]
  },
  {
   "cell_type": "code",
   "execution_count": 362,
   "metadata": {},
   "outputs": [],
   "source": [
    "# Сгруппируем данные и посмотрим количество аренд по выходным и рабочим дням\n",
    "london_weekend = london.groupby('is_weekend').agg({'cnt':'sum'}).reset_index()"
   ]
  },
  {
   "cell_type": "code",
   "execution_count": 363,
   "metadata": {},
   "outputs": [
    {
     "data": {
      "text/plain": [
       "<Axes: xlabel='is_weekend', ylabel='cnt'>"
      ]
     },
     "execution_count": 363,
     "metadata": {},
     "output_type": "execute_result"
    },
    {
     "data": {
      "image/png": "[encoded data removed]",
      "text/plain": [
       "<Figure size 1800x600 with 1 Axes>"
      ]
     },
     "metadata": {},
     "output_type": "display_data"
    }
   ],
   "source": [
    "# Визуализируем\n",
    "sns.barplot(x='is_weekend', y='cnt', data=london_weekend)"
   ]
  },
  {
   "cell_type": "markdown",
   "metadata": {},
   "source": [
    "В праздники число аренд очень мало по сравнению с обычными днями. Число аренд по рабочим дням в 3 раза выше, чем в выходные."
   ]
  },
  {
   "cell_type": "markdown",
   "metadata": {},
   "source": [
    "### Количество аренд в зависимости от сезона"
   ]
  },
  {
   "cell_type": "code",
   "execution_count": 312,
   "metadata": {},
   "outputs": [],
   "source": [
    "# В колонке season зашифрован метеорологический сезон (0 – весна, 1 – лето, 2 – осень, 3 – зима) \n",
    "# Напишем функцию для явного определения принадлежности к сезону.\n",
    "def season(x):\n",
    "    if x == 0.0:\n",
    "        return 'spring'\n",
    "    elif x == 1.0:\n",
    "        return 'summer'\n",
    "    elif x == 2.0:\n",
    "        return 'autumn'\n",
    "    elif x == 3.0:\n",
    "        return 'winter'"
   ]
  },
  {
   "cell_type": "code",
   "execution_count": 313,
   "metadata": {},
   "outputs": [],
   "source": [
    "london['season'] = london.season.apply(season)"
   ]
  },
  {
   "cell_type": "code",
   "execution_count": 364,
   "metadata": {},
   "outputs": [],
   "source": [
    "# Сгруппируем данные по сезонам и посчитаем количество аренд\n",
    "london_season = london.groupby('season').agg({'cnt':'sum'}).reset_index()"
   ]
  },
  {
   "cell_type": "code",
   "execution_count": 365,
   "metadata": {},
   "outputs": [
    {
     "data": {
      "text/plain": [
       "<Axes: xlabel='season', ylabel='cnt'>"
      ]
     },
     "execution_count": 365,
     "metadata": {},
     "output_type": "execute_result"
    },
    {
     "data": {
      "image/png": "[encoded data removed]",
      "text/plain": [
       "<Figure size 1800x600 with 1 Axes>"
      ]
     },
     "metadata": {},
     "output_type": "display_data"
    }
   ],
   "source": [
    "# Посмотрим на распределение количества аренд по сезонам\n",
    "sns.barplot(x='season', y='cnt', data=london_season)"
   ]
  },
  {
   "cell_type": "code",
   "execution_count": 366,
   "metadata": {},
   "outputs": [],
   "source": [
    "# По диаграмме видно, что число аренд зимой и летом различаются почти в два раза.\n",
    "# Между весной и осенью есть небольшие различия. Можно проверить статистически значимы они или нет."
   ]
  },
  {
   "cell_type": "code",
   "execution_count": 367,
   "metadata": {},
   "outputs": [
    {
     "data": {
      "text/html": [
       "<div>\n",
       "<style scoped>\n",
       "    .dataframe tbody tr th:only-of-type {\n",
       "        vertical-align: middle;\n",
       "    }\n",
       "\n",
       "    .dataframe tbody tr th {\n",
       "        vertical-align: top;\n",
       "    }\n",
       "\n",
       "    .dataframe thead th {\n",
       "        text-align: right;\n",
       "    }\n",
       "</style>\n",
       "<table border=\"1\" class=\"dataframe\">\n",
       "  <thead>\n",
       "    <tr style=\"text-align: right;\">\n",
       "      <th></th>\n",
       "      <th>W</th>\n",
       "      <th>pval</th>\n",
       "      <th>normal</th>\n",
       "    </tr>\n",
       "    <tr>\n",
       "      <th>season</th>\n",
       "      <th></th>\n",
       "      <th></th>\n",
       "      <th></th>\n",
       "    </tr>\n",
       "  </thead>\n",
       "  <tbody>\n",
       "    <tr>\n",
       "      <th>winter</th>\n",
       "      <td>1311.149359</td>\n",
       "      <td>1.938806e-285</td>\n",
       "      <td>False</td>\n",
       "    </tr>\n",
       "    <tr>\n",
       "      <th>spring</th>\n",
       "      <td>771.059409</td>\n",
       "      <td>3.686181e-168</td>\n",
       "      <td>False</td>\n",
       "    </tr>\n",
       "    <tr>\n",
       "      <th>summer</th>\n",
       "      <td>549.131087</td>\n",
       "      <td>5.723998e-120</td>\n",
       "      <td>False</td>\n",
       "    </tr>\n",
       "    <tr>\n",
       "      <th>autumn</th>\n",
       "      <td>898.659957</td>\n",
       "      <td>7.218881e-196</td>\n",
       "      <td>False</td>\n",
       "    </tr>\n",
       "  </tbody>\n",
       "</table>\n",
       "</div>"
      ],
      "text/plain": [
       "                  W           pval  normal\n",
       "season                                    \n",
       "winter  1311.149359  1.938806e-285   False\n",
       "spring   771.059409  3.686181e-168   False\n",
       "summer   549.131087  5.723998e-120   False\n",
       "autumn   898.659957  7.218881e-196   False"
      ]
     },
     "execution_count": 367,
     "metadata": {},
     "output_type": "execute_result"
    }
   ],
   "source": [
    "# Проверим распределения аренд по сезонам на нормальность \n",
    "pg.normality(data=london, dv='cnt', group='season', method='normaltest')"
   ]
  },
  {
   "cell_type": "code",
   "execution_count": 318,
   "metadata": {},
   "outputs": [
    {
     "data": {
      "text/html": [
       "<div>\n",
       "<style scoped>\n",
       "    .dataframe tbody tr th:only-of-type {\n",
       "        vertical-align: middle;\n",
       "    }\n",
       "\n",
       "    .dataframe tbody tr th {\n",
       "        vertical-align: top;\n",
       "    }\n",
       "\n",
       "    .dataframe thead th {\n",
       "        text-align: right;\n",
       "    }\n",
       "</style>\n",
       "<table border=\"1\" class=\"dataframe\">\n",
       "  <thead>\n",
       "    <tr style=\"text-align: right;\">\n",
       "      <th></th>\n",
       "      <th>Source</th>\n",
       "      <th>ddof1</th>\n",
       "      <th>H</th>\n",
       "      <th>p-unc</th>\n",
       "    </tr>\n",
       "  </thead>\n",
       "  <tbody>\n",
       "    <tr>\n",
       "      <th>Kruskal</th>\n",
       "      <td>season</td>\n",
       "      <td>3</td>\n",
       "      <td>669.766599</td>\n",
       "      <td>7.543621e-145</td>\n",
       "    </tr>\n",
       "  </tbody>\n",
       "</table>\n",
       "</div>"
      ],
      "text/plain": [
       "         Source  ddof1           H          p-unc\n",
       "Kruskal  season      3  669.766599  7.543621e-145"
      ]
     },
     "execution_count": 318,
     "metadata": {},
     "output_type": "execute_result"
    }
   ],
   "source": [
    "# Поскольку распределения отличаются от нормальных, используем непараметрический аналог ANOVA критерий Краскела-Уоллиса\n",
    "pg.kruskal(data=london, dv='cnt', between='season')"
   ]
  },
  {
   "cell_type": "code",
   "execution_count": 368,
   "metadata": {},
   "outputs": [
    {
     "data": {
      "text/html": [
       "<div>\n",
       "<style scoped>\n",
       "    .dataframe tbody tr th:only-of-type {\n",
       "        vertical-align: middle;\n",
       "    }\n",
       "\n",
       "    .dataframe tbody tr th {\n",
       "        vertical-align: top;\n",
       "    }\n",
       "\n",
       "    .dataframe thead th {\n",
       "        text-align: right;\n",
       "    }\n",
       "</style>\n",
       "<table border=\"1\" class=\"dataframe\">\n",
       "  <thead>\n",
       "    <tr style=\"text-align: right;\">\n",
       "      <th></th>\n",
       "      <th>autumn</th>\n",
       "      <th>spring</th>\n",
       "      <th>summer</th>\n",
       "      <th>winter</th>\n",
       "    </tr>\n",
       "  </thead>\n",
       "  <tbody>\n",
       "    <tr>\n",
       "      <th>autumn</th>\n",
       "      <td>1.000000e+00</td>\n",
       "      <td>5.168629e-04</td>\n",
       "      <td>4.114975e-26</td>\n",
       "      <td>1.255364e-49</td>\n",
       "    </tr>\n",
       "    <tr>\n",
       "      <th>spring</th>\n",
       "      <td>5.168629e-04</td>\n",
       "      <td>1.000000e+00</td>\n",
       "      <td>4.916235e-45</td>\n",
       "      <td>3.178131e-30</td>\n",
       "    </tr>\n",
       "    <tr>\n",
       "      <th>summer</th>\n",
       "      <td>4.114975e-26</td>\n",
       "      <td>4.916235e-45</td>\n",
       "      <td>1.000000e+00</td>\n",
       "      <td>3.140979e-144</td>\n",
       "    </tr>\n",
       "    <tr>\n",
       "      <th>winter</th>\n",
       "      <td>1.255364e-49</td>\n",
       "      <td>3.178131e-30</td>\n",
       "      <td>3.140979e-144</td>\n",
       "      <td>1.000000e+00</td>\n",
       "    </tr>\n",
       "  </tbody>\n",
       "</table>\n",
       "</div>"
      ],
      "text/plain": [
       "              autumn        spring         summer         winter\n",
       "autumn  1.000000e+00  5.168629e-04   4.114975e-26   1.255364e-49\n",
       "spring  5.168629e-04  1.000000e+00   4.916235e-45   3.178131e-30\n",
       "summer  4.114975e-26  4.916235e-45   1.000000e+00  3.140979e-144\n",
       "winter  1.255364e-49  3.178131e-30  3.140979e-144   1.000000e+00"
      ]
     },
     "execution_count": 368,
     "metadata": {},
     "output_type": "execute_result"
    }
   ],
   "source": [
    "# В группах найдены статистически значимые различия. Посмотрим в каких именно.\n",
    "sp.posthoc_dunn(a=london, val_col='cnt', group_col='season', p_adjust='holm')\n",
    "# Все группы отличаются друг от друга."
   ]
  },
  {
   "cell_type": "markdown",
   "metadata": {},
   "source": [
    "Число аренд различается по сезонам."
   ]
  },
  {
   "cell_type": "markdown",
   "metadata": {},
   "source": [
    "### Количество аренд в зависимости от погодных условий"
   ]
  },
  {
   "cell_type": "code",
   "execution_count": 320,
   "metadata": {},
   "outputs": [],
   "source": [
    "# В колонке weather_code зашифрованы погодные условия. \n",
    "# Чтобы с этой колонкой было удобнее работать, явно укажем погодные условия.\n",
    "def weather_code(x):\n",
    "    if x == 1.0:\n",
    "        return 'ясно'\n",
    "    elif x == 2.0:\n",
    "        return 'преимущественно ясно'\n",
    "    elif x == 3.0:\n",
    "        return 'облачно'\n",
    "    elif x == 4.0:\n",
    "        return 'пасмурно'\n",
    "    elif x == 7.0:\n",
    "        return 'небольшой дождь'\n",
    "    elif x == 10.0:\n",
    "        return 'дождь с грозой'\n",
    "    elif x == 26.0:\n",
    "        return 'снегопад'\n",
    "    elif x == 94.0:\n",
    "        return 'ледяной туман'"
   ]
  },
  {
   "cell_type": "code",
   "execution_count": 321,
   "metadata": {},
   "outputs": [],
   "source": [
    "london['weather_code'] = london.weather_code.apply(weather_code)"
   ]
  },
  {
   "cell_type": "code",
   "execution_count": 322,
   "metadata": {},
   "outputs": [
    {
     "data": {
      "text/plain": [
       "<Axes: xlabel='weather_code', ylabel='cnt'>"
      ]
     },
     "execution_count": 322,
     "metadata": {},
     "output_type": "execute_result"
    },
    {
     "data": {
      "image/png": "[encoded data removed]",
      "text/plain": [
       "<Figure size 1800x600 with 1 Axes>"
      ]
     },
     "metadata": {},
     "output_type": "display_data"
    }
   ],
   "source": [
    "# Распределение числа аренд в зависимости от погодных условий\n",
    "sns.barplot(x='weather_code', y='cnt', data=london)"
   ]
  },
  {
   "cell_type": "markdown",
   "metadata": {},
   "source": [
    "Количество аренд больше всего в ясную погоду, меньше всего в снегопад и дождь."
   ]
  },
  {
   "cell_type": "markdown",
   "metadata": {},
   "source": [
    "### Количество аренд в зависимости от дней недели."
   ]
  },
  {
   "cell_type": "code",
   "execution_count": 323,
   "metadata": {},
   "outputs": [],
   "source": [
    "# Вытаскиваем из даты номер дня недели. Данная информация понадобится для анализа аренд по дням недели.\n",
    "london['day_name'] = london.timestamp.dt.day_name()"
   ]
  },
  {
   "cell_type": "code",
   "execution_count": 324,
   "metadata": {},
   "outputs": [
    {
     "data": {
      "text/plain": [
       "<Axes: xlabel='day_name', ylabel='cnt'>"
      ]
     },
     "execution_count": 324,
     "metadata": {},
     "output_type": "execute_result"
    },
    {
     "data": {
      "image/png": "[encoded data removed]",
      "text/plain": [
       "<Figure size 1800x600 with 1 Axes>"
      ]
     },
     "metadata": {},
     "output_type": "display_data"
    }
   ],
   "source": [
    "# Распределение числа аренд по дням недели\n",
    "sns.barplot(x='day_name', y='cnt', data=london)"
   ]
  },
  {
   "cell_type": "code",
   "execution_count": 369,
   "metadata": {},
   "outputs": [],
   "source": [
    "# По графику видно, что число аренд в выходные меньше, чем в будние дни. \n",
    "# Число аренд в понедельник визуально меньше, чем в другие дни.\n",
    "# Чтобы привлечь клиентов, можно в определеённые дни сделать скидки или какие-нибудь специальные условия.\n",
    "# Чтобы определить дни для скидок, нужно определить статистически значимые различия в числе аренд по дням.\n",
    "# Сравнить рабочие и выходные дни между собой. Потом определить по каким дням устраивать скидки и давать спец.условия."
   ]
  },
  {
   "cell_type": "code",
   "execution_count": 370,
   "metadata": {},
   "outputs": [
    {
     "data": {
      "text/plain": [
       "<Axes: xlabel='day_name', ylabel='cnt'>"
      ]
     },
     "execution_count": 370,
     "metadata": {},
     "output_type": "execute_result"
    },
    {
     "data": {
      "image/png": "[encoded data removed]",
      "text/plain": [
       "<Figure size 1800x600 with 1 Axes>"
      ]
     },
     "metadata": {},
     "output_type": "display_data"
    }
   ],
   "source": [
    "sns.boxplot(data=london, x='day_name', y='cnt')"
   ]
  },
  {
   "cell_type": "code",
   "execution_count": 327,
   "metadata": {},
   "outputs": [
    {
     "data": {
      "text/plain": [
       "<Axes: xlabel='day_name', ylabel='cnt'>"
      ]
     },
     "execution_count": 327,
     "metadata": {},
     "output_type": "execute_result"
    },
    {
     "data": {
      "image/png": "[encoded data removed]",
      "text/plain": [
       "<Figure size 1800x600 with 1 Axes>"
      ]
     },
     "metadata": {},
     "output_type": "display_data"
    }
   ],
   "source": [
    "sns.pointplot(x='day_name', y='cnt', data=london)"
   ]
  },
  {
   "cell_type": "code",
   "execution_count": 328,
   "metadata": {},
   "outputs": [
    {
     "data": {
      "text/html": [
       "<div>\n",
       "<style scoped>\n",
       "    .dataframe tbody tr th:only-of-type {\n",
       "        vertical-align: middle;\n",
       "    }\n",
       "\n",
       "    .dataframe tbody tr th {\n",
       "        vertical-align: top;\n",
       "    }\n",
       "\n",
       "    .dataframe thead th {\n",
       "        text-align: right;\n",
       "    }\n",
       "</style>\n",
       "<table border=\"1\" class=\"dataframe\">\n",
       "  <thead>\n",
       "    <tr style=\"text-align: right;\">\n",
       "      <th></th>\n",
       "      <th>W</th>\n",
       "      <th>pval</th>\n",
       "      <th>normal</th>\n",
       "    </tr>\n",
       "    <tr>\n",
       "      <th>day_name</th>\n",
       "      <th></th>\n",
       "      <th></th>\n",
       "      <th></th>\n",
       "    </tr>\n",
       "  </thead>\n",
       "  <tbody>\n",
       "    <tr>\n",
       "      <th>Sunday</th>\n",
       "      <td>443.252761</td>\n",
       "      <td>5.609006e-97</td>\n",
       "      <td>False</td>\n",
       "    </tr>\n",
       "    <tr>\n",
       "      <th>Monday</th>\n",
       "      <td>521.445947</td>\n",
       "      <td>5.881003e-114</td>\n",
       "      <td>False</td>\n",
       "    </tr>\n",
       "    <tr>\n",
       "      <th>Tuesday</th>\n",
       "      <td>500.394797</td>\n",
       "      <td>2.191040e-109</td>\n",
       "      <td>False</td>\n",
       "    </tr>\n",
       "    <tr>\n",
       "      <th>Wednesday</th>\n",
       "      <td>488.469600</td>\n",
       "      <td>8.514791e-107</td>\n",
       "      <td>False</td>\n",
       "    </tr>\n",
       "    <tr>\n",
       "      <th>Thursday</th>\n",
       "      <td>593.716618</td>\n",
       "      <td>1.191447e-129</td>\n",
       "      <td>False</td>\n",
       "    </tr>\n",
       "    <tr>\n",
       "      <th>Friday</th>\n",
       "      <td>362.218294</td>\n",
       "      <td>2.214608e-79</td>\n",
       "      <td>False</td>\n",
       "    </tr>\n",
       "    <tr>\n",
       "      <th>Saturday</th>\n",
       "      <td>390.922308</td>\n",
       "      <td>1.295088e-85</td>\n",
       "      <td>False</td>\n",
       "    </tr>\n",
       "  </tbody>\n",
       "</table>\n",
       "</div>"
      ],
      "text/plain": [
       "                    W           pval  normal\n",
       "day_name                                    \n",
       "Sunday     443.252761   5.609006e-97   False\n",
       "Monday     521.445947  5.881003e-114   False\n",
       "Tuesday    500.394797  2.191040e-109   False\n",
       "Wednesday  488.469600  8.514791e-107   False\n",
       "Thursday   593.716618  1.191447e-129   False\n",
       "Friday     362.218294   2.214608e-79   False\n",
       "Saturday   390.922308   1.295088e-85   False"
      ]
     },
     "execution_count": 328,
     "metadata": {},
     "output_type": "execute_result"
    }
   ],
   "source": [
    "# Проверим распределения аренд по дням недели на нормальность \n",
    "pg.normality(data=london, dv='cnt', group='day_name', method='normaltest')"
   ]
  },
  {
   "cell_type": "code",
   "execution_count": 329,
   "metadata": {},
   "outputs": [
    {
     "data": {
      "text/html": [
       "<div>\n",
       "<style scoped>\n",
       "    .dataframe tbody tr th:only-of-type {\n",
       "        vertical-align: middle;\n",
       "    }\n",
       "\n",
       "    .dataframe tbody tr th {\n",
       "        vertical-align: top;\n",
       "    }\n",
       "\n",
       "    .dataframe thead th {\n",
       "        text-align: right;\n",
       "    }\n",
       "</style>\n",
       "<table border=\"1\" class=\"dataframe\">\n",
       "  <thead>\n",
       "    <tr style=\"text-align: right;\">\n",
       "      <th></th>\n",
       "      <th>Source</th>\n",
       "      <th>ddof1</th>\n",
       "      <th>H</th>\n",
       "      <th>p-unc</th>\n",
       "    </tr>\n",
       "  </thead>\n",
       "  <tbody>\n",
       "    <tr>\n",
       "      <th>Kruskal</th>\n",
       "      <td>day_name</td>\n",
       "      <td>6</td>\n",
       "      <td>105.972725</td>\n",
       "      <td>1.419065e-20</td>\n",
       "    </tr>\n",
       "  </tbody>\n",
       "</table>\n",
       "</div>"
      ],
      "text/plain": [
       "           Source  ddof1           H         p-unc\n",
       "Kruskal  day_name      6  105.972725  1.419065e-20"
      ]
     },
     "execution_count": 329,
     "metadata": {},
     "output_type": "execute_result"
    }
   ],
   "source": [
    "# Поскольку распределения отличаются от нормальных, используем непараметрический аналог ANOVA критерий Краскела-Уоллиса\n",
    "pg.kruskal(data=london, dv='cnt', between='day_name')"
   ]
  },
  {
   "cell_type": "code",
   "execution_count": 330,
   "metadata": {},
   "outputs": [
    {
     "data": {
      "text/html": [
       "<div>\n",
       "<style scoped>\n",
       "    .dataframe tbody tr th:only-of-type {\n",
       "        vertical-align: middle;\n",
       "    }\n",
       "\n",
       "    .dataframe tbody tr th {\n",
       "        vertical-align: top;\n",
       "    }\n",
       "\n",
       "    .dataframe thead th {\n",
       "        text-align: right;\n",
       "    }\n",
       "</style>\n",
       "<table border=\"1\" class=\"dataframe\">\n",
       "  <thead>\n",
       "    <tr style=\"text-align: right;\">\n",
       "      <th></th>\n",
       "      <th>Friday</th>\n",
       "      <th>Monday</th>\n",
       "      <th>Saturday</th>\n",
       "      <th>Sunday</th>\n",
       "      <th>Thursday</th>\n",
       "      <th>Tuesday</th>\n",
       "      <th>Wednesday</th>\n",
       "    </tr>\n",
       "  </thead>\n",
       "  <tbody>\n",
       "    <tr>\n",
       "      <th>Friday</th>\n",
       "      <td>1.000000e+00</td>\n",
       "      <td>0.001374</td>\n",
       "      <td>2.309443e-06</td>\n",
       "      <td>6.677033e-12</td>\n",
       "      <td>1.000000e+00</td>\n",
       "      <td>1.000000e+00</td>\n",
       "      <td>1.000000e+00</td>\n",
       "    </tr>\n",
       "    <tr>\n",
       "      <th>Monday</th>\n",
       "      <td>1.374358e-03</td>\n",
       "      <td>1.000000</td>\n",
       "      <td>1.000000e+00</td>\n",
       "      <td>5.736639e-03</td>\n",
       "      <td>5.367728e-04</td>\n",
       "      <td>5.999481e-02</td>\n",
       "      <td>3.909912e-03</td>\n",
       "    </tr>\n",
       "    <tr>\n",
       "      <th>Saturday</th>\n",
       "      <td>2.309443e-06</td>\n",
       "      <td>1.000000</td>\n",
       "      <td>1.000000e+00</td>\n",
       "      <td>3.619557e-01</td>\n",
       "      <td>6.202471e-07</td>\n",
       "      <td>5.127158e-04</td>\n",
       "      <td>9.541156e-06</td>\n",
       "    </tr>\n",
       "    <tr>\n",
       "      <th>Sunday</th>\n",
       "      <td>6.677033e-12</td>\n",
       "      <td>0.005737</td>\n",
       "      <td>3.619557e-01</td>\n",
       "      <td>1.000000e+00</td>\n",
       "      <td>1.008553e-12</td>\n",
       "      <td>1.351319e-08</td>\n",
       "      <td>4.616781e-11</td>\n",
       "    </tr>\n",
       "    <tr>\n",
       "      <th>Thursday</th>\n",
       "      <td>1.000000e+00</td>\n",
       "      <td>0.000537</td>\n",
       "      <td>6.202471e-07</td>\n",
       "      <td>1.008553e-12</td>\n",
       "      <td>1.000000e+00</td>\n",
       "      <td>1.000000e+00</td>\n",
       "      <td>1.000000e+00</td>\n",
       "    </tr>\n",
       "    <tr>\n",
       "      <th>Tuesday</th>\n",
       "      <td>1.000000e+00</td>\n",
       "      <td>0.059995</td>\n",
       "      <td>5.127158e-04</td>\n",
       "      <td>1.351319e-08</td>\n",
       "      <td>1.000000e+00</td>\n",
       "      <td>1.000000e+00</td>\n",
       "      <td>1.000000e+00</td>\n",
       "    </tr>\n",
       "    <tr>\n",
       "      <th>Wednesday</th>\n",
       "      <td>1.000000e+00</td>\n",
       "      <td>0.003910</td>\n",
       "      <td>9.541156e-06</td>\n",
       "      <td>4.616781e-11</td>\n",
       "      <td>1.000000e+00</td>\n",
       "      <td>1.000000e+00</td>\n",
       "      <td>1.000000e+00</td>\n",
       "    </tr>\n",
       "  </tbody>\n",
       "</table>\n",
       "</div>"
      ],
      "text/plain": [
       "                 Friday    Monday      Saturday        Sunday      Thursday  \\\n",
       "Friday     1.000000e+00  0.001374  2.309443e-06  6.677033e-12  1.000000e+00   \n",
       "Monday     1.374358e-03  1.000000  1.000000e+00  5.736639e-03  5.367728e-04   \n",
       "Saturday   2.309443e-06  1.000000  1.000000e+00  3.619557e-01  6.202471e-07   \n",
       "Sunday     6.677033e-12  0.005737  3.619557e-01  1.000000e+00  1.008553e-12   \n",
       "Thursday   1.000000e+00  0.000537  6.202471e-07  1.008553e-12  1.000000e+00   \n",
       "Tuesday    1.000000e+00  0.059995  5.127158e-04  1.351319e-08  1.000000e+00   \n",
       "Wednesday  1.000000e+00  0.003910  9.541156e-06  4.616781e-11  1.000000e+00   \n",
       "\n",
       "                Tuesday     Wednesday  \n",
       "Friday     1.000000e+00  1.000000e+00  \n",
       "Monday     5.999481e-02  3.909912e-03  \n",
       "Saturday   5.127158e-04  9.541156e-06  \n",
       "Sunday     1.351319e-08  4.616781e-11  \n",
       "Thursday   1.000000e+00  1.000000e+00  \n",
       "Tuesday    1.000000e+00  1.000000e+00  \n",
       "Wednesday  1.000000e+00  1.000000e+00  "
      ]
     },
     "execution_count": 330,
     "metadata": {},
     "output_type": "execute_result"
    }
   ],
   "source": [
    "# Как минимум в двух группах обнаружены статистически значимые различия\n",
    "# Проверяем в каких именно группах\n",
    "sp.posthoc_dunn(a=london, val_col='cnt', group_col='day_name', p_adjust='holm')"
   ]
  },
  {
   "cell_type": "markdown",
   "metadata": {},
   "source": [
    "1. Статистически значимые различия обнаружены между понедельником и средой, четвергом, пятницой.\n",
    "2. Между вторником, средой, четвергом и пятницой различий не обнаружено.\n",
    "3. Между выходными днями (субботой и воскресеньем) различий не обнаружено.\n",
    "4. Обнаружены различия между выходными и рабочими днями.\n",
    "5. Обнаружены различия между понедельником и пятницой.\n",
    "6. Если сравнивать между собой рабочие дни, то больше всего по количеству аренд отличается понедельник.\n",
    "7. Для увеличения размера прибыли с аренды велосипедов в понедельник и выходные можно организовать дни скидок и акций."
   ]
  },
  {
   "cell_type": "markdown",
   "metadata": {},
   "source": [
    "### Регрессионная модель"
   ]
  },
  {
   "cell_type": "code",
   "execution_count": 331,
   "metadata": {},
   "outputs": [
    {
     "data": {
      "text/html": [
       "<div>\n",
       "<style scoped>\n",
       "    .dataframe tbody tr th:only-of-type {\n",
       "        vertical-align: middle;\n",
       "    }\n",
       "\n",
       "    .dataframe tbody tr th {\n",
       "        vertical-align: top;\n",
       "    }\n",
       "\n",
       "    .dataframe thead th {\n",
       "        text-align: right;\n",
       "    }\n",
       "</style>\n",
       "<table border=\"1\" class=\"dataframe\">\n",
       "  <thead>\n",
       "    <tr style=\"text-align: right;\">\n",
       "      <th></th>\n",
       "      <th>cnt</th>\n",
       "      <th>t1</th>\n",
       "      <th>t2</th>\n",
       "      <th>hum</th>\n",
       "      <th>wind_speed</th>\n",
       "    </tr>\n",
       "  </thead>\n",
       "  <tbody>\n",
       "    <tr>\n",
       "      <th>cnt</th>\n",
       "      <td>1.000000</td>\n",
       "      <td>0.388798</td>\n",
       "      <td>0.369035</td>\n",
       "      <td>-0.462901</td>\n",
       "      <td>0.116295</td>\n",
       "    </tr>\n",
       "    <tr>\n",
       "      <th>t1</th>\n",
       "      <td>0.388798</td>\n",
       "      <td>1.000000</td>\n",
       "      <td>0.988344</td>\n",
       "      <td>-0.447781</td>\n",
       "      <td>0.145471</td>\n",
       "    </tr>\n",
       "    <tr>\n",
       "      <th>t2</th>\n",
       "      <td>0.369035</td>\n",
       "      <td>0.988344</td>\n",
       "      <td>1.000000</td>\n",
       "      <td>-0.403495</td>\n",
       "      <td>0.088409</td>\n",
       "    </tr>\n",
       "    <tr>\n",
       "      <th>hum</th>\n",
       "      <td>-0.462901</td>\n",
       "      <td>-0.447781</td>\n",
       "      <td>-0.403495</td>\n",
       "      <td>1.000000</td>\n",
       "      <td>-0.287789</td>\n",
       "    </tr>\n",
       "    <tr>\n",
       "      <th>wind_speed</th>\n",
       "      <td>0.116295</td>\n",
       "      <td>0.145471</td>\n",
       "      <td>0.088409</td>\n",
       "      <td>-0.287789</td>\n",
       "      <td>1.000000</td>\n",
       "    </tr>\n",
       "  </tbody>\n",
       "</table>\n",
       "</div>"
      ],
      "text/plain": [
       "                 cnt        t1        t2       hum  wind_speed\n",
       "cnt         1.000000  0.388798  0.369035 -0.462901    0.116295\n",
       "t1          0.388798  1.000000  0.988344 -0.447781    0.145471\n",
       "t2          0.369035  0.988344  1.000000 -0.403495    0.088409\n",
       "hum        -0.462901 -0.447781 -0.403495  1.000000   -0.287789\n",
       "wind_speed  0.116295  0.145471  0.088409 -0.287789    1.000000"
      ]
     },
     "execution_count": 331,
     "metadata": {},
     "output_type": "execute_result"
    }
   ],
   "source": [
    "# Прежде чем строить регрессионную модель, нужно посмотреть на корреляцию между предикторами.\n",
    "london.corr()"
   ]
  },
  {
   "cell_type": "code",
   "execution_count": 332,
   "metadata": {},
   "outputs": [],
   "source": [
    "# Между t1 (температура) и t2 (температура как ощущается) сильная положительная корреляция.\n",
    "# Чтобы избежать мультиколлинеарность, нужно исключить из модели t1 или t2."
   ]
  },
  {
   "cell_type": "code",
   "execution_count": 333,
   "metadata": {},
   "outputs": [
    {
     "name": "stdout",
     "output_type": "stream",
     "text": [
      "                            OLS Regression Results                            \n",
      "==============================================================================\n",
      "Dep. Variable:                    cnt   R-squared:                       0.256\n",
      "Model:                            OLS   Adj. R-squared:                  0.256\n",
      "Method:                 Least Squares   F-statistic:                     1996.\n",
      "Date:                Tue, 04 Apr 2023   Prob (F-statistic):               0.00\n",
      "Time:                        15:03:11   Log-Likelihood:            -1.4385e+05\n",
      "No. Observations:               17414   AIC:                         2.877e+05\n",
      "Df Residuals:                   17410   BIC:                         2.877e+05\n",
      "Df Model:                           3                                         \n",
      "Covariance Type:            nonrobust                                         \n",
      "==============================================================================\n",
      "                 coef    std err          t      P>|t|      [0.025      0.975]\n",
      "------------------------------------------------------------------------------\n",
      "const       2655.1744     56.882     46.678      0.000    2543.679    2766.670\n",
      "t1            44.3080      1.424     31.112      0.000      41.517      47.099\n",
      "hum          -27.8624      0.573    -48.650      0.000     -28.985     -26.740\n",
      "wind_speed    -3.1022      0.938     -3.306      0.001      -4.942      -1.263\n",
      "==============================================================================\n",
      "Omnibus:                     4981.364   Durbin-Watson:                   0.583\n",
      "Prob(Omnibus):                  0.000   Jarque-Bera (JB):            12983.142\n",
      "Skew:                           1.557   Prob(JB):                         0.00\n",
      "Kurtosis:                       5.862   Cond. No.                         611.\n",
      "==============================================================================\n",
      "\n",
      "Notes:\n",
      "[1] Standard Errors assume that the covariance matrix of the errors is correctly specified.\n"
     ]
    }
   ],
   "source": [
    "# Построим регрессионную модель c учётом тепературы, влажности и скорости ветра.\n",
    "y = london['cnt']\n",
    "x =  london[['t1', 'hum', 'wind_speed']]\n",
    "x = sm.add_constant(x)\n",
    "model = sm.OLS(y, x).fit()\n",
    "print(model.summary())"
   ]
  },
  {
   "cell_type": "markdown",
   "metadata": {},
   "source": [
    "Полученная модель объясняет 26% изменчивости зависимой переменной (число аренд).\n",
    "По полученной регрессионной модели можно заключить следующее:\n",
    " 1. При возрастании температуры на 1C число аренд увеличивается на 44.\n",
    " 2. При увеличении влажности на 1% число аренд сокращается на 27.\n",
    " 3. При увеличении скорости ветра на 1 км/ч число аренд падает на 3."
   ]
  },
  {
   "cell_type": "code",
   "execution_count": 371,
   "metadata": {},
   "outputs": [
    {
     "name": "stdout",
     "output_type": "stream",
     "text": [
      "                            OLS Regression Results                            \n",
      "==============================================================================\n",
      "Dep. Variable:                    cnt   R-squared:                       0.254\n",
      "Model:                            OLS   Adj. R-squared:                  0.254\n",
      "Method:                 Least Squares   F-statistic:                     1977.\n",
      "Date:                Tue, 04 Apr 2023   Prob (F-statistic):               0.00\n",
      "Time:                        15:56:38   Log-Likelihood:            -1.4387e+05\n",
      "No. Observations:               17414   AIC:                         2.877e+05\n",
      "Df Residuals:                   17410   BIC:                         2.878e+05\n",
      "Df Model:                           3                                         \n",
      "Covariance Type:            nonrobust                                         \n",
      "==============================================================================\n",
      "                 coef    std err          t      P>|t|      [0.025      0.975]\n",
      "------------------------------------------------------------------------------\n",
      "const       2834.5394     53.956     52.534      0.000    2728.779    2940.299\n",
      "t2            35.6456      1.174     30.361      0.000      33.344      37.947\n",
      "hum          -28.7053      0.564    -50.863      0.000     -29.812     -27.599\n",
      "wind_speed    -1.6336      0.940     -1.738      0.082      -3.476       0.209\n",
      "==============================================================================\n",
      "Omnibus:                     4973.025   Durbin-Watson:                   0.582\n",
      "Prob(Omnibus):                  0.000   Jarque-Bera (JB):            12928.130\n",
      "Skew:                           1.556   Prob(JB):                         0.00\n",
      "Kurtosis:                       5.852   Cond. No.                         578.\n",
      "==============================================================================\n",
      "\n",
      "Notes:\n",
      "[1] Standard Errors assume that the covariance matrix of the errors is correctly specified.\n"
     ]
    }
   ],
   "source": [
    "# Построим регрессионную модель c учётом тепературы (как ощущается), влажности и скорости ветра.\n",
    "y_1 = london['cnt']\n",
    "x_1 =  london[['t2', 'hum', 'wind_speed']]\n",
    "x_1 = sm.add_constant(x_1)\n",
    "model_1 = sm.OLS(y_1, x_1).fit()\n",
    "print(model_1.summary())"
   ]
  },
  {
   "cell_type": "markdown",
   "metadata": {},
   "source": [
    "Разница между Adj. R-squared t1 и t2 составляет менее 1%. Оставим в модели t1.\n",
    "Построим несколько меделей: со всеми предикторами, с учётом сезонности, дней недели, выходных и празничных дней, погодных условий."
   ]
  },
  {
   "cell_type": "code",
   "execution_count": 335,
   "metadata": {},
   "outputs": [],
   "source": [
    "# Построим модель со всеми предикторами.\n",
    "# Для этого создадим фиктивные переменные.\n",
    "london_dummy = pd.get_dummies(data=london, drop_first=True)"
   ]
  },
  {
   "cell_type": "code",
   "execution_count": 336,
   "metadata": {},
   "outputs": [
    {
     "data": {
      "text/html": [
       "<div>\n",
       "<style scoped>\n",
       "    .dataframe tbody tr th:only-of-type {\n",
       "        vertical-align: middle;\n",
       "    }\n",
       "\n",
       "    .dataframe tbody tr th {\n",
       "        vertical-align: top;\n",
       "    }\n",
       "\n",
       "    .dataframe thead th {\n",
       "        text-align: right;\n",
       "    }\n",
       "</style>\n",
       "<table border=\"1\" class=\"dataframe\">\n",
       "  <thead>\n",
       "    <tr style=\"text-align: right;\">\n",
       "      <th></th>\n",
       "      <th>timestamp</th>\n",
       "      <th>cnt</th>\n",
       "      <th>t1</th>\n",
       "      <th>t2</th>\n",
       "      <th>hum</th>\n",
       "      <th>wind_speed</th>\n",
       "      <th>weather_code_небольшой дождь</th>\n",
       "      <th>weather_code_облачно</th>\n",
       "      <th>weather_code_пасмурно</th>\n",
       "      <th>weather_code_преимущественно ясно</th>\n",
       "      <th>...</th>\n",
       "      <th>is_weekend_workday</th>\n",
       "      <th>season_spring</th>\n",
       "      <th>season_summer</th>\n",
       "      <th>season_winter</th>\n",
       "      <th>day_name_Monday</th>\n",
       "      <th>day_name_Saturday</th>\n",
       "      <th>day_name_Sunday</th>\n",
       "      <th>day_name_Thursday</th>\n",
       "      <th>day_name_Tuesday</th>\n",
       "      <th>day_name_Wednesday</th>\n",
       "    </tr>\n",
       "    <tr>\n",
       "      <th>timestamp</th>\n",
       "      <th></th>\n",
       "      <th></th>\n",
       "      <th></th>\n",
       "      <th></th>\n",
       "      <th></th>\n",
       "      <th></th>\n",
       "      <th></th>\n",
       "      <th></th>\n",
       "      <th></th>\n",
       "      <th></th>\n",
       "      <th></th>\n",
       "      <th></th>\n",
       "      <th></th>\n",
       "      <th></th>\n",
       "      <th></th>\n",
       "      <th></th>\n",
       "      <th></th>\n",
       "      <th></th>\n",
       "      <th></th>\n",
       "      <th></th>\n",
       "      <th></th>\n",
       "    </tr>\n",
       "  </thead>\n",
       "  <tbody>\n",
       "    <tr>\n",
       "      <th>2015-01-04 00:00:00</th>\n",
       "      <td>2015-01-04 00:00:00</td>\n",
       "      <td>182</td>\n",
       "      <td>3.0</td>\n",
       "      <td>2.0</td>\n",
       "      <td>93.0</td>\n",
       "      <td>6.0</td>\n",
       "      <td>0</td>\n",
       "      <td>1</td>\n",
       "      <td>0</td>\n",
       "      <td>0</td>\n",
       "      <td>...</td>\n",
       "      <td>0</td>\n",
       "      <td>0</td>\n",
       "      <td>0</td>\n",
       "      <td>1</td>\n",
       "      <td>0</td>\n",
       "      <td>0</td>\n",
       "      <td>1</td>\n",
       "      <td>0</td>\n",
       "      <td>0</td>\n",
       "      <td>0</td>\n",
       "    </tr>\n",
       "    <tr>\n",
       "      <th>2015-01-04 01:00:00</th>\n",
       "      <td>2015-01-04 01:00:00</td>\n",
       "      <td>138</td>\n",
       "      <td>3.0</td>\n",
       "      <td>2.5</td>\n",
       "      <td>93.0</td>\n",
       "      <td>5.0</td>\n",
       "      <td>0</td>\n",
       "      <td>0</td>\n",
       "      <td>0</td>\n",
       "      <td>0</td>\n",
       "      <td>...</td>\n",
       "      <td>0</td>\n",
       "      <td>0</td>\n",
       "      <td>0</td>\n",
       "      <td>1</td>\n",
       "      <td>0</td>\n",
       "      <td>0</td>\n",
       "      <td>1</td>\n",
       "      <td>0</td>\n",
       "      <td>0</td>\n",
       "      <td>0</td>\n",
       "    </tr>\n",
       "    <tr>\n",
       "      <th>2015-01-04 02:00:00</th>\n",
       "      <td>2015-01-04 02:00:00</td>\n",
       "      <td>134</td>\n",
       "      <td>2.5</td>\n",
       "      <td>2.5</td>\n",
       "      <td>96.5</td>\n",
       "      <td>0.0</td>\n",
       "      <td>0</td>\n",
       "      <td>0</td>\n",
       "      <td>0</td>\n",
       "      <td>0</td>\n",
       "      <td>...</td>\n",
       "      <td>0</td>\n",
       "      <td>0</td>\n",
       "      <td>0</td>\n",
       "      <td>1</td>\n",
       "      <td>0</td>\n",
       "      <td>0</td>\n",
       "      <td>1</td>\n",
       "      <td>0</td>\n",
       "      <td>0</td>\n",
       "      <td>0</td>\n",
       "    </tr>\n",
       "    <tr>\n",
       "      <th>2015-01-04 03:00:00</th>\n",
       "      <td>2015-01-04 03:00:00</td>\n",
       "      <td>72</td>\n",
       "      <td>2.0</td>\n",
       "      <td>2.0</td>\n",
       "      <td>100.0</td>\n",
       "      <td>0.0</td>\n",
       "      <td>0</td>\n",
       "      <td>0</td>\n",
       "      <td>0</td>\n",
       "      <td>0</td>\n",
       "      <td>...</td>\n",
       "      <td>0</td>\n",
       "      <td>0</td>\n",
       "      <td>0</td>\n",
       "      <td>1</td>\n",
       "      <td>0</td>\n",
       "      <td>0</td>\n",
       "      <td>1</td>\n",
       "      <td>0</td>\n",
       "      <td>0</td>\n",
       "      <td>0</td>\n",
       "    </tr>\n",
       "    <tr>\n",
       "      <th>2015-01-04 04:00:00</th>\n",
       "      <td>2015-01-04 04:00:00</td>\n",
       "      <td>47</td>\n",
       "      <td>2.0</td>\n",
       "      <td>0.0</td>\n",
       "      <td>93.0</td>\n",
       "      <td>6.5</td>\n",
       "      <td>0</td>\n",
       "      <td>0</td>\n",
       "      <td>0</td>\n",
       "      <td>0</td>\n",
       "      <td>...</td>\n",
       "      <td>0</td>\n",
       "      <td>0</td>\n",
       "      <td>0</td>\n",
       "      <td>1</td>\n",
       "      <td>0</td>\n",
       "      <td>0</td>\n",
       "      <td>1</td>\n",
       "      <td>0</td>\n",
       "      <td>0</td>\n",
       "      <td>0</td>\n",
       "    </tr>\n",
       "  </tbody>\n",
       "</table>\n",
       "<p>5 rows × 23 columns</p>\n",
       "</div>"
      ],
      "text/plain": [
       "                              timestamp  cnt   t1   t2    hum  wind_speed  \\\n",
       "timestamp                                                                   \n",
       "2015-01-04 00:00:00 2015-01-04 00:00:00  182  3.0  2.0   93.0         6.0   \n",
       "2015-01-04 01:00:00 2015-01-04 01:00:00  138  3.0  2.5   93.0         5.0   \n",
       "2015-01-04 02:00:00 2015-01-04 02:00:00  134  2.5  2.5   96.5         0.0   \n",
       "2015-01-04 03:00:00 2015-01-04 03:00:00   72  2.0  2.0  100.0         0.0   \n",
       "2015-01-04 04:00:00 2015-01-04 04:00:00   47  2.0  0.0   93.0         6.5   \n",
       "\n",
       "                     weather_code_небольшой дождь  weather_code_облачно  \\\n",
       "timestamp                                                                 \n",
       "2015-01-04 00:00:00                             0                     1   \n",
       "2015-01-04 01:00:00                             0                     0   \n",
       "2015-01-04 02:00:00                             0                     0   \n",
       "2015-01-04 03:00:00                             0                     0   \n",
       "2015-01-04 04:00:00                             0                     0   \n",
       "\n",
       "                     weather_code_пасмурно  weather_code_преимущественно ясно  \\\n",
       "timestamp                                                                       \n",
       "2015-01-04 00:00:00                      0                                  0   \n",
       "2015-01-04 01:00:00                      0                                  0   \n",
       "2015-01-04 02:00:00                      0                                  0   \n",
       "2015-01-04 03:00:00                      0                                  0   \n",
       "2015-01-04 04:00:00                      0                                  0   \n",
       "\n",
       "                     ...  is_weekend_workday  season_spring  season_summer  \\\n",
       "timestamp            ...                                                     \n",
       "2015-01-04 00:00:00  ...                   0              0              0   \n",
       "2015-01-04 01:00:00  ...                   0              0              0   \n",
       "2015-01-04 02:00:00  ...                   0              0              0   \n",
       "2015-01-04 03:00:00  ...                   0              0              0   \n",
       "2015-01-04 04:00:00  ...                   0              0              0   \n",
       "\n",
       "                     season_winter  day_name_Monday  day_name_Saturday  \\\n",
       "timestamp                                                                \n",
       "2015-01-04 00:00:00              1                0                  0   \n",
       "2015-01-04 01:00:00              1                0                  0   \n",
       "2015-01-04 02:00:00              1                0                  0   \n",
       "2015-01-04 03:00:00              1                0                  0   \n",
       "2015-01-04 04:00:00              1                0                  0   \n",
       "\n",
       "                     day_name_Sunday  day_name_Thursday  day_name_Tuesday  \\\n",
       "timestamp                                                                   \n",
       "2015-01-04 00:00:00                1                  0                 0   \n",
       "2015-01-04 01:00:00                1                  0                 0   \n",
       "2015-01-04 02:00:00                1                  0                 0   \n",
       "2015-01-04 03:00:00                1                  0                 0   \n",
       "2015-01-04 04:00:00                1                  0                 0   \n",
       "\n",
       "                     day_name_Wednesday  \n",
       "timestamp                                \n",
       "2015-01-04 00:00:00                   0  \n",
       "2015-01-04 01:00:00                   0  \n",
       "2015-01-04 02:00:00                   0  \n",
       "2015-01-04 03:00:00                   0  \n",
       "2015-01-04 04:00:00                   0  \n",
       "\n",
       "[5 rows x 23 columns]"
      ]
     },
     "execution_count": 336,
     "metadata": {},
     "output_type": "execute_result"
    }
   ],
   "source": [
    "london_dummy.head()"
   ]
  },
  {
   "cell_type": "code",
   "execution_count": 372,
   "metadata": {},
   "outputs": [],
   "source": [
    "# Погодные условия\n",
    "weather = london_dummy.columns[london_dummy.columns.str.startswith('weather')].to_list()"
   ]
  },
  {
   "cell_type": "code",
   "execution_count": 373,
   "metadata": {},
   "outputs": [],
   "source": [
    "# Сезоны\n",
    "season = london_dummy.columns[london_dummy.columns.str.startswith('season')].to_list()"
   ]
  },
  {
   "cell_type": "code",
   "execution_count": 374,
   "metadata": {},
   "outputs": [],
   "source": [
    "# Дни недели\n",
    "day_name = london_dummy.columns[london_dummy.columns.str.startswith('day_name')].to_list()"
   ]
  },
  {
   "cell_type": "code",
   "execution_count": 375,
   "metadata": {},
   "outputs": [],
   "source": [
    "# Температура, влажность и скорость ветра\n",
    "temp = ['t1', 'hum', 'wind_speed']"
   ]
  },
  {
   "cell_type": "code",
   "execution_count": 376,
   "metadata": {},
   "outputs": [],
   "source": [
    "# Праздничные и выходные дни\n",
    "day = ['is_holiday_not holiday', 'is_weekend_workday']"
   ]
  },
  {
   "cell_type": "code",
   "execution_count": 377,
   "metadata": {},
   "outputs": [
    {
     "name": "stdout",
     "output_type": "stream",
     "text": [
      "                            OLS Regression Results                            \n",
      "==============================================================================\n",
      "Dep. Variable:                    cnt   R-squared:                       0.290\n",
      "Model:                            OLS   Adj. R-squared:                  0.289\n",
      "Method:                 Least Squares   F-statistic:                     373.5\n",
      "Date:                Tue, 04 Apr 2023   Prob (F-statistic):               0.00\n",
      "Time:                        15:57:21   Log-Likelihood:            -1.4344e+05\n",
      "No. Observations:               17414   AIC:                         2.869e+05\n",
      "Df Residuals:                   17394   BIC:                         2.871e+05\n",
      "Df Model:                          19                                         \n",
      "Covariance Type:            nonrobust                                         \n",
      "=====================================================================================================\n",
      "                                        coef    std err          t      P>|t|      [0.025      0.975]\n",
      "-----------------------------------------------------------------------------------------------------\n",
      "const                              1434.3331    196.265      7.308      0.000    1049.634    1819.032\n",
      "weather_code_небольшой дождь        395.8399    245.522      1.612      0.107     -85.408     877.088\n",
      "weather_code_облачно                670.9766    245.191      2.737      0.006     190.377    1151.576\n",
      "weather_code_пасмурно               294.8332    245.933      1.199      0.231    -187.220     776.887\n",
      "weather_code_преимущественно ясно   671.3346    245.189      2.738      0.006     190.739    1151.930\n",
      "weather_code_снегопад               418.9208    272.042      1.540      0.124    -114.308     952.150\n",
      "weather_code_ясно                   390.7375    245.077      1.594      0.111     -89.639     871.114\n",
      "season_spring                      -114.7251     21.363     -5.370      0.000    -156.598     -72.852\n",
      "season_summer                      -237.2274     21.947    -10.809      0.000    -280.245    -194.210\n",
      "season_winter                        20.5827     22.752      0.905      0.366     -24.014      65.179\n",
      "day_name_Monday                     -18.8227     26.223     -0.718      0.473     -70.223      32.577\n",
      "day_name_Saturday                   425.9402     67.492      6.311      0.000     293.650     558.230\n",
      "day_name_Sunday                     404.8825     67.214      6.024      0.000     273.137     536.628\n",
      "day_name_Thursday                    21.9013     26.121      0.838      0.402     -29.299      73.102\n",
      "day_name_Tuesday                     22.2365     26.054      0.853      0.393     -28.831      73.304\n",
      "day_name_Wednesday                   24.1364     26.137      0.923      0.356     -27.096      75.368\n",
      "is_holiday_not holiday              236.7667     49.213      4.811      0.000     140.305     333.228\n",
      "is_weekend_workday                  603.5104     66.698      9.048      0.000     472.776     734.245\n",
      "t1                                   52.7831      2.012     26.237      0.000      48.840      56.726\n",
      "hum                                 -28.1869      0.662    -42.552      0.000     -29.485     -26.889\n",
      "wind_speed                           -7.5898      0.999     -7.601      0.000      -9.547      -5.633\n",
      "==============================================================================\n",
      "Omnibus:                     4802.976   Durbin-Watson:                   0.630\n",
      "Prob(Omnibus):                  0.000   Jarque-Bera (JB):            12170.143\n",
      "Skew:                           1.513   Prob(JB):                         0.00\n",
      "Kurtosis:                       5.759   Cond. No.                     5.41e+16\n",
      "==============================================================================\n",
      "\n",
      "Notes:\n",
      "[1] Standard Errors assume that the covariance matrix of the errors is correctly specified.\n",
      "[2] The smallest eigenvalue is 3.46e-26. This might indicate that there are\n",
      "strong multicollinearity problems or that the design matrix is singular.\n"
     ]
    }
   ],
   "source": [
    "# Модель со всеми предикторами\n",
    "y_all = london_dummy['cnt']\n",
    "x_all = london_dummy[weather + season + day_name + day + temp]\n",
    "x_all = sm.add_constant(x_all)\n",
    "model_all = sm.OLS(y_all, x_all).fit()\n",
    "print(model_all.summary())"
   ]
  },
  {
   "cell_type": "markdown",
   "metadata": {},
   "source": [
    "R-squared увеличился на 3%.\n",
    "29% изменчивости объясняется полученной моделью. А 71% изменчивости зависит от других факторов."
   ]
  },
  {
   "cell_type": "code",
   "execution_count": 344,
   "metadata": {},
   "outputs": [
    {
     "name": "stdout",
     "output_type": "stream",
     "text": [
      "                            OLS Regression Results                            \n",
      "==============================================================================\n",
      "Dep. Variable:                    cnt   R-squared:                       0.265\n",
      "Model:                            OLS   Adj. R-squared:                  0.264\n",
      "Method:                 Least Squares   F-statistic:                     1253.\n",
      "Date:                Tue, 04 Apr 2023   Prob (F-statistic):               0.00\n",
      "Time:                        15:03:12   Log-Likelihood:            -1.4375e+05\n",
      "No. Observations:               17414   AIC:                         2.875e+05\n",
      "Df Residuals:                   17408   BIC:                         2.876e+05\n",
      "Df Model:                           5                                         \n",
      "Covariance Type:            nonrobust                                         \n",
      "==========================================================================================\n",
      "                             coef    std err          t      P>|t|      [0.025      0.975]\n",
      "------------------------------------------------------------------------------------------\n",
      "const                   2196.1960     75.751     28.992      0.000    2047.716    2344.676\n",
      "t1                        44.1911      1.417     31.195      0.000      41.414      46.968\n",
      "hum                      -27.5520      0.570    -48.353      0.000     -28.669     -26.435\n",
      "wind_speed                -2.8025      0.933     -3.003      0.003      -4.632      -0.973\n",
      "is_holiday_not holiday   287.5479     48.296      5.954      0.000     192.882     382.214\n",
      "is_weekend_workday       212.7218     15.698     13.550      0.000     181.951     243.492\n",
      "==============================================================================\n",
      "Omnibus:                     4589.591   Durbin-Watson:                   0.590\n",
      "Prob(Omnibus):                  0.000   Jarque-Bera (JB):            11114.539\n",
      "Skew:                           1.467   Prob(JB):                         0.00\n",
      "Kurtosis:                       5.590   Cond. No.                         901.\n",
      "==============================================================================\n",
      "\n",
      "Notes:\n",
      "[1] Standard Errors assume that the covariance matrix of the errors is correctly specified.\n"
     ]
    }
   ],
   "source": [
    "# Посмотрим как включение отдельных предикторов повлияет на качество модели.\n",
    "# С учётом выходных и праздничных дней.\n",
    "y_holiday = london_dummy['cnt']\n",
    "x_holiday = london_dummy[temp + day]\n",
    "x_holiday = sm.add_constant(x_holiday)\n",
    "model_holiday = sm.OLS(y_holiday, x_holiday).fit()\n",
    "print(model_holiday.summary())"
   ]
  },
  {
   "cell_type": "code",
   "execution_count": 345,
   "metadata": {},
   "outputs": [
    {
     "name": "stdout",
     "output_type": "stream",
     "text": [
      "                            OLS Regression Results                            \n",
      "==============================================================================\n",
      "Dep. Variable:                    cnt   R-squared:                       0.265\n",
      "Model:                            OLS   Adj. R-squared:                  0.264\n",
      "Method:                 Least Squares   F-statistic:                     1253.\n",
      "Date:                Tue, 04 Apr 2023   Prob (F-statistic):               0.00\n",
      "Time:                        15:03:12   Log-Likelihood:            -1.4375e+05\n",
      "No. Observations:               17414   AIC:                         2.875e+05\n",
      "Df Residuals:                   17408   BIC:                         2.876e+05\n",
      "Df Model:                           5                                         \n",
      "Covariance Type:            nonrobust                                         \n",
      "==========================================================================================\n",
      "                             coef    std err          t      P>|t|      [0.025      0.975]\n",
      "------------------------------------------------------------------------------------------\n",
      "const                   2196.1960     75.751     28.992      0.000    2047.716    2344.676\n",
      "t1                        44.1911      1.417     31.195      0.000      41.414      46.968\n",
      "hum                      -27.5520      0.570    -48.353      0.000     -28.669     -26.435\n",
      "wind_speed                -2.8025      0.933     -3.003      0.003      -4.632      -0.973\n",
      "is_holiday_not holiday   287.5479     48.296      5.954      0.000     192.882     382.214\n",
      "is_weekend_workday       212.7218     15.698     13.550      0.000     181.951     243.492\n",
      "==============================================================================\n",
      "Omnibus:                     4589.591   Durbin-Watson:                   0.590\n",
      "Prob(Omnibus):                  0.000   Jarque-Bera (JB):            11114.539\n",
      "Skew:                           1.467   Prob(JB):                         0.00\n",
      "Kurtosis:                       5.590   Cond. No.                         901.\n",
      "==============================================================================\n",
      "\n",
      "Notes:\n",
      "[1] Standard Errors assume that the covariance matrix of the errors is correctly specified.\n"
     ]
    }
   ],
   "source": [
    "# С учётом дней недели.\n",
    "y_day = london_dummy['cnt']\n",
    "x_day = london_dummy[temp + day]\n",
    "x_day = sm.add_constant(x_day)\n",
    "model_day = sm.OLS(y_day, x_day).fit()\n",
    "print(model_day.summary())"
   ]
  },
  {
   "cell_type": "code",
   "execution_count": 346,
   "metadata": {},
   "outputs": [
    {
     "name": "stdout",
     "output_type": "stream",
     "text": [
      "                            OLS Regression Results                            \n",
      "==============================================================================\n",
      "Dep. Variable:                    cnt   R-squared:                       0.263\n",
      "Model:                            OLS   Adj. R-squared:                  0.263\n",
      "Method:                 Least Squares   F-statistic:                     1037.\n",
      "Date:                Tue, 04 Apr 2023   Prob (F-statistic):               0.00\n",
      "Time:                        15:03:12   Log-Likelihood:            -1.4376e+05\n",
      "No. Observations:               17414   AIC:                         2.875e+05\n",
      "Df Residuals:                   17407   BIC:                         2.876e+05\n",
      "Df Model:                           6                                         \n",
      "Covariance Type:            nonrobust                                         \n",
      "=================================================================================\n",
      "                    coef    std err          t      P>|t|      [0.025      0.975]\n",
      "---------------------------------------------------------------------------------\n",
      "const          2738.8134     64.670     42.351      0.000    2612.054    2865.572\n",
      "t1               53.8124      2.017     26.675      0.000      49.858      57.767\n",
      "hum             -28.8858      0.594    -48.638      0.000     -30.050     -27.722\n",
      "wind_speed       -4.4270      0.961     -4.608      0.000      -6.310      -2.544\n",
      "season_spring  -154.8835     21.479     -7.211      0.000    -196.984    -112.783\n",
      "season_summer  -265.4229     22.268    -11.919      0.000    -309.071    -221.774\n",
      "season_winter    -4.3836     22.999     -0.191      0.849     -49.463      40.696\n",
      "==============================================================================\n",
      "Omnibus:                     5101.412   Durbin-Watson:                   0.590\n",
      "Prob(Omnibus):                  0.000   Jarque-Bera (JB):            13634.578\n",
      "Skew:                           1.584   Prob(JB):                         0.00\n",
      "Kurtosis:                       5.959   Cond. No.                         714.\n",
      "==============================================================================\n",
      "\n",
      "Notes:\n",
      "[1] Standard Errors assume that the covariance matrix of the errors is correctly specified.\n"
     ]
    }
   ],
   "source": [
    "# С учётом сезонов.\n",
    "y_season = london_dummy['cnt']\n",
    "x_season = london_dummy[temp + season]\n",
    "x_season = sm.add_constant(x_season)\n",
    "model_season = sm.OLS(y_season, x_season).fit()\n",
    "print(model_season.summary())"
   ]
  },
  {
   "cell_type": "code",
   "execution_count": 347,
   "metadata": {},
   "outputs": [
    {
     "name": "stdout",
     "output_type": "stream",
     "text": [
      "                            OLS Regression Results                            \n",
      "==============================================================================\n",
      "Dep. Variable:                    cnt   R-squared:                       0.276\n",
      "Model:                            OLS   Adj. R-squared:                  0.276\n",
      "Method:                 Least Squares   F-statistic:                     737.2\n",
      "Date:                Tue, 04 Apr 2023   Prob (F-statistic):               0.00\n",
      "Time:                        15:03:12   Log-Likelihood:            -1.4361e+05\n",
      "No. Observations:               17414   AIC:                         2.872e+05\n",
      "Df Residuals:                   17404   BIC:                         2.873e+05\n",
      "Df Model:                           9                                         \n",
      "Covariance Type:            nonrobust                                         \n",
      "=====================================================================================================\n",
      "                                        coef    std err          t      P>|t|      [0.025      0.975]\n",
      "-----------------------------------------------------------------------------------------------------\n",
      "const                              2197.6859    255.439      8.604      0.000    1696.999    2698.372\n",
      "t1                                   42.7870      1.421     30.107      0.000      40.001      45.573\n",
      "hum                                 -27.6954      0.639    -43.317      0.000     -28.949     -26.442\n",
      "wind_speed                           -6.5671      0.986     -6.660      0.000      -8.500      -4.634\n",
      "weather_code_небольшой дождь        403.9529    247.671      1.631      0.103     -81.507     889.413\n",
      "weather_code_облачно                688.3112    247.313      2.783      0.005     203.552    1173.070\n",
      "weather_code_пасмурно               300.2971    248.044      1.211      0.226    -185.894     786.488\n",
      "weather_code_преимущественно ясно   700.5276    247.304      2.833      0.005     215.787    1185.268\n",
      "weather_code_снегопад               406.0537    274.345      1.480      0.139    -131.689     943.797\n",
      "weather_code_ясно                   398.0218    247.213      1.610      0.107     -86.541     882.584\n",
      "==============================================================================\n",
      "Omnibus:                     5075.793   Durbin-Watson:                   0.618\n",
      "Prob(Omnibus):                  0.000   Jarque-Bera (JB):            13508.326\n",
      "Skew:                           1.578   Prob(JB):                         0.00\n",
      "Kurtosis:                       5.943   Cond. No.                     7.14e+03\n",
      "==============================================================================\n",
      "\n",
      "Notes:\n",
      "[1] Standard Errors assume that the covariance matrix of the errors is correctly specified.\n",
      "[2] The condition number is large, 7.14e+03. This might indicate that there are\n",
      "strong multicollinearity or other numerical problems.\n"
     ]
    }
   ],
   "source": [
    "# С учётом погоды.\n",
    "y_weather = london_dummy['cnt']\n",
    "x_weather = london_dummy[temp + weather]\n",
    "x_weather = sm.add_constant(x_weather)\n",
    "model_weather = sm.OLS(y_weather, x_weather).fit()\n",
    "print(model_weather.summary())"
   ]
  },
  {
   "cell_type": "markdown",
   "metadata": {},
   "source": [
    "Модель с выходными/праздниками/сезонами/днями недели объясняет 26% изменчивости числа аренд. \n",
    "Включение в модель погодных условий позволяет объяснить 28% изменчивости зависимой переменной."
   ]
  },
  {
   "cell_type": "markdown",
   "metadata": {},
   "source": [
    "Общие выводы:\n",
    "   1. В полученных данных выявлены скачки числа аренд. Чтобы определить дни с аномальными данными, построен доверительный интервал для скользящего среднего. Самое высокое значение числа аренд было 09.07.2015, что связано с забастовками работников метро. Самое низкое число аренд 02.09.2015 связано с ошибкой внесения данных.\n",
    "   2. Проведён ANOVA числа аренд по дням недели с использованием непараметрического критерия Краскела-Уоллиса. Если сравнивать между собой рабочие дни, то больше всего статистически значимых различий выявлено между понедельником и остальными рабочими днями. Также обнаружены статистически значимые различия между выходными и рабочими днями. В то время как между субботой и воскресеньем значимых различий не найдено. Для увеличения размера прибыли с аренды велосипедлв в понедельник и выходные можно организовать дни скидок и акций.\n",
    "   3. Построены регрессионные модели с разными предикторами. \n",
    "По результатам:\n",
    "   1. 25% изменчивости числа аренд объясняется моделью с учётом тепературы, влажности и скорости ветра; \n",
    "   2. 26% изменчивости объясняется моделью с учётом тепературы, влажности, скорости ветра и сезонов/празников/выходных/дней недели; \n",
    "   3. 28% изменчивости числа аренд объясняется моделью с учётом тепературы, влажности, скорости ветра и погодных условий (ясно, облачно, дождь и т.д.); \n",
    "   4. 29% изменчивости числа аренд объясняется моделью с всеми предикторами. \n",
    "   5. Даже самая лучшая модель объясняет только 29% изменчивости зависимой переменной, 71% зависит от других факторов. Предоставленных данных недостаточно, чтобы в полной мере объяснить изменение числа аренд."
   ]
  }
 ],
 "metadata": {
  "kernelspec": {
   "display_name": "Python 3 (ipykernel)",
   "language": "python",
   "name": "python3"
  },
  "language_info": {
   "codemirror_mode": {
    "name": "ipython",
    "version": 3
   },
   "file_extension": ".py",
   "mimetype": "text/x-python",
   "name": "python",
   "nbconvert_exporter": "python",
   "pygments_lexer": "ipython3",
   "version": "3.10.9"
  }
 },
 "nbformat": 4,
 "nbformat_minor": 4
}
